{
 "cells": [
  {
   "cell_type": "markdown",
   "id": "69d0724f-3a19-4f0d-932b-ed59940f1a1e",
   "metadata": {
    "jp-MarkdownHeadingCollapsed": true
   },
   "source": [
    "# ANN Model"
   ]
  },
  {
   "attachments": {},
   "cell_type": "markdown",
   "id": "75206bae-fc4f-4cd9-9c98-133d67a3a9f7",
   "metadata": {},
   "source": [
    "![image.png](mlp-diagram.jpg)"
   ]
  },
  {
   "cell_type": "code",
   "execution_count": 1,
   "id": "bf2cc1b8-03e9-429b-b269-91e3452ae368",
   "metadata": {},
   "outputs": [],
   "source": [
    "from keras.models import Sequential\n",
    "from keras.layers import  Input , Dense"
   ]
  },
  {
   "cell_type": "code",
   "execution_count": 2,
   "id": "c6531ae3-388d-4b24-8ccd-ecba0789c175",
   "metadata": {},
   "outputs": [],
   "source": [
    "model = Sequential()\n",
    "\n",
    "# Add input layer \n",
    "model.add(Input(shape=(4,)))\n",
    "\n",
    "# Add first hidden layer (Dense layer)\n",
    "model.add(Dense(3, activation='relu'))\n",
    "\n",
    "# Add output layer (for binary classification, activation='sigmoid')\n",
    "model.add(Dense(1, activation='sigmoid'))"
   ]
  },
  {
   "cell_type": "code",
   "execution_count": 3,
   "id": "38c8888b-fc59-4df2-97c5-8e82805d0b01",
   "metadata": {},
   "outputs": [
    {
     "data": {
      "text/html": [
       "<pre style=\"white-space:pre;overflow-x:auto;line-height:normal;font-family:Menlo,'DejaVu Sans Mono',consolas,'Courier New',monospace\"><span style=\"font-weight: bold\">Model: \"sequential\"</span>\n",
       "</pre>\n"
      ],
      "text/plain": [
       "\u001b[1mModel: \"sequential\"\u001b[0m\n"
      ]
     },
     "metadata": {},
     "output_type": "display_data"
    },
    {
     "data": {
      "text/html": [
       "<pre style=\"white-space:pre;overflow-x:auto;line-height:normal;font-family:Menlo,'DejaVu Sans Mono',consolas,'Courier New',monospace\">┏━━━━━━━━━━━━━━━━━━━━━━━━━━━━━━━━━━━━━━┳━━━━━━━━━━━━━━━━━━━━━━━━━━━━━┳━━━━━━━━━━━━━━━━━┓\n",
       "┃<span style=\"font-weight: bold\"> Layer (type)                         </span>┃<span style=\"font-weight: bold\"> Output Shape                </span>┃<span style=\"font-weight: bold\">         Param # </span>┃\n",
       "┡━━━━━━━━━━━━━━━━━━━━━━━━━━━━━━━━━━━━━━╇━━━━━━━━━━━━━━━━━━━━━━━━━━━━━╇━━━━━━━━━━━━━━━━━┩\n",
       "│ dense (<span style=\"color: #0087ff; text-decoration-color: #0087ff\">Dense</span>)                        │ (<span style=\"color: #00d7ff; text-decoration-color: #00d7ff\">None</span>, <span style=\"color: #00af00; text-decoration-color: #00af00\">3</span>)                   │              <span style=\"color: #00af00; text-decoration-color: #00af00\">15</span> │\n",
       "├──────────────────────────────────────┼─────────────────────────────┼─────────────────┤\n",
       "│ dense_1 (<span style=\"color: #0087ff; text-decoration-color: #0087ff\">Dense</span>)                      │ (<span style=\"color: #00d7ff; text-decoration-color: #00d7ff\">None</span>, <span style=\"color: #00af00; text-decoration-color: #00af00\">1</span>)                   │               <span style=\"color: #00af00; text-decoration-color: #00af00\">4</span> │\n",
       "└──────────────────────────────────────┴─────────────────────────────┴─────────────────┘\n",
       "</pre>\n"
      ],
      "text/plain": [
       "┏━━━━━━━━━━━━━━━━━━━━━━━━━━━━━━━━━━━━━━┳━━━━━━━━━━━━━━━━━━━━━━━━━━━━━┳━━━━━━━━━━━━━━━━━┓\n",
       "┃\u001b[1m \u001b[0m\u001b[1mLayer (type)                        \u001b[0m\u001b[1m \u001b[0m┃\u001b[1m \u001b[0m\u001b[1mOutput Shape               \u001b[0m\u001b[1m \u001b[0m┃\u001b[1m \u001b[0m\u001b[1m        Param #\u001b[0m\u001b[1m \u001b[0m┃\n",
       "┡━━━━━━━━━━━━━━━━━━━━━━━━━━━━━━━━━━━━━━╇━━━━━━━━━━━━━━━━━━━━━━━━━━━━━╇━━━━━━━━━━━━━━━━━┩\n",
       "│ dense (\u001b[38;5;33mDense\u001b[0m)                        │ (\u001b[38;5;45mNone\u001b[0m, \u001b[38;5;34m3\u001b[0m)                   │              \u001b[38;5;34m15\u001b[0m │\n",
       "├──────────────────────────────────────┼─────────────────────────────┼─────────────────┤\n",
       "│ dense_1 (\u001b[38;5;33mDense\u001b[0m)                      │ (\u001b[38;5;45mNone\u001b[0m, \u001b[38;5;34m1\u001b[0m)                   │               \u001b[38;5;34m4\u001b[0m │\n",
       "└──────────────────────────────────────┴─────────────────────────────┴─────────────────┘\n"
      ]
     },
     "metadata": {},
     "output_type": "display_data"
    },
    {
     "data": {
      "text/html": [
       "<pre style=\"white-space:pre;overflow-x:auto;line-height:normal;font-family:Menlo,'DejaVu Sans Mono',consolas,'Courier New',monospace\"><span style=\"font-weight: bold\"> Total params: </span><span style=\"color: #00af00; text-decoration-color: #00af00\">19</span> (76.00 B)\n",
       "</pre>\n"
      ],
      "text/plain": [
       "\u001b[1m Total params: \u001b[0m\u001b[38;5;34m19\u001b[0m (76.00 B)\n"
      ]
     },
     "metadata": {},
     "output_type": "display_data"
    },
    {
     "data": {
      "text/html": [
       "<pre style=\"white-space:pre;overflow-x:auto;line-height:normal;font-family:Menlo,'DejaVu Sans Mono',consolas,'Courier New',monospace\"><span style=\"font-weight: bold\"> Trainable params: </span><span style=\"color: #00af00; text-decoration-color: #00af00\">19</span> (76.00 B)\n",
       "</pre>\n"
      ],
      "text/plain": [
       "\u001b[1m Trainable params: \u001b[0m\u001b[38;5;34m19\u001b[0m (76.00 B)\n"
      ]
     },
     "metadata": {},
     "output_type": "display_data"
    },
    {
     "data": {
      "text/html": [
       "<pre style=\"white-space:pre;overflow-x:auto;line-height:normal;font-family:Menlo,'DejaVu Sans Mono',consolas,'Courier New',monospace\"><span style=\"font-weight: bold\"> Non-trainable params: </span><span style=\"color: #00af00; text-decoration-color: #00af00\">0</span> (0.00 B)\n",
       "</pre>\n"
      ],
      "text/plain": [
       "\u001b[1m Non-trainable params: \u001b[0m\u001b[38;5;34m0\u001b[0m (0.00 B)\n"
      ]
     },
     "metadata": {},
     "output_type": "display_data"
    }
   ],
   "source": [
    "model.summary()"
   ]
  },
  {
   "cell_type": "markdown",
   "id": "e6361645-008a-4ee4-a5b9-c87b6189878b",
   "metadata": {
    "jp-MarkdownHeadingCollapsed": true
   },
   "source": [
    "# RNN (Recurrent Neural Network) Applications:"
   ]
  },
  {
   "cell_type": "markdown",
   "id": "0455a75d-077f-4149-90ae-16669b3a43b0",
   "metadata": {},
   "source": [
    "1. [Gmail](https://mail.google.com/)\n",
    "2. [Sentiment analysis](https://text2data.com/Demo)\n",
    "3. [Google Translate](https://www.google.com/search?q=google+translate&oq=google+tr&gs_lcrp=EgZjaHJvbWUqDQgAEAAYgwEYsQMYgAQyDQgAEAAYgwEYsQMYgAQyDwgBEEUYORiDARixAxiABDIHCAIQABiABDINCAMQABiDARixAxiABDIGCAQQRRg8MgYIBRBFGEEyBggGEEUYPDIGCAcQRRhB0gEIMjAxNGowajSoAgCwAgE&sourceid=chrome&ie=UTF-8)\n",
    "4. Time-series forecasting ( Stock market price prediction, Weather forecast)\n",
    "5. Speech Recognition"
   ]
  },
  {
   "cell_type": "markdown",
   "id": "206e0577-38fb-4289-8fae-b795c8ed67a3",
   "metadata": {
    "jp-MarkdownHeadingCollapsed": true
   },
   "source": [
    "# Recurrent Neural Network - RNN"
   ]
  },
  {
   "cell_type": "markdown",
   "id": "b1086bea-d6a9-4443-8c52-3d94997d1d6a",
   "metadata": {},
   "source": [
    "![img.jpg](rnn-2.drawio.png)"
   ]
  },
  {
   "cell_type": "markdown",
   "id": "fd01b15a-567d-4711-8cab-cb91957d775f",
   "metadata": {
    "jp-MarkdownHeadingCollapsed": true
   },
   "source": [
    "# RNN Architecture"
   ]
  },
  {
   "cell_type": "markdown",
   "id": "d8d0e89f-b294-4506-aad6-31ca24637b4b",
   "metadata": {},
   "source": [
    "![image.png](RNN-unrolled.png) "
   ]
  },
  {
   "cell_type": "markdown",
   "id": "64a6413d-b8f4-4fba-8cfd-9fdd83376790",
   "metadata": {
    "jp-MarkdownHeadingCollapsed": true
   },
   "source": [
    "# RNN Model"
   ]
  },
  {
   "cell_type": "code",
   "execution_count": 4,
   "id": "195697a5-597f-4c5f-94c3-fddac70d6351",
   "metadata": {},
   "outputs": [],
   "source": [
    "from keras.models import Sequential\n",
    "from keras.layers import Input,SimpleRNN, Dense"
   ]
  },
  {
   "cell_type": "code",
   "execution_count": 5,
   "id": "f1431290-280b-4f03-8d5f-7870af612394",
   "metadata": {},
   "outputs": [],
   "source": [
    "# Define model\n",
    "model = Sequential()"
   ]
  },
  {
   "cell_type": "code",
   "execution_count": 6,
   "id": "d5998288-5b24-4bf5-9d0f-8710c6e233cc",
   "metadata": {},
   "outputs": [],
   "source": [
    "# input_shape = (timesteps, features)\n",
    "\n",
    "model.add(Input(shape=(10,5)))  # input shape of (10 timesteps, 5 feature)\n",
    "\n",
    "model.add(SimpleRNN(4, activation='relu')) # 3 units in RNN layer\n",
    "\n",
    "# Add a Dense layer for output\n",
    "model.add(Dense(1, activation='sigmoid'))  # Output layer with one unit"
   ]
  },
  {
   "cell_type": "code",
   "execution_count": 7,
   "id": "53dce43b-c125-434d-bb13-460c3d037dbb",
   "metadata": {},
   "outputs": [
    {
     "data": {
      "text/html": [
       "<pre style=\"white-space:pre;overflow-x:auto;line-height:normal;font-family:Menlo,'DejaVu Sans Mono',consolas,'Courier New',monospace\"><span style=\"font-weight: bold\">Model: \"sequential_1\"</span>\n",
       "</pre>\n"
      ],
      "text/plain": [
       "\u001b[1mModel: \"sequential_1\"\u001b[0m\n"
      ]
     },
     "metadata": {},
     "output_type": "display_data"
    },
    {
     "data": {
      "text/html": [
       "<pre style=\"white-space:pre;overflow-x:auto;line-height:normal;font-family:Menlo,'DejaVu Sans Mono',consolas,'Courier New',monospace\">┏━━━━━━━━━━━━━━━━━━━━━━━━━━━━━━━━━━━━━━┳━━━━━━━━━━━━━━━━━━━━━━━━━━━━━┳━━━━━━━━━━━━━━━━━┓\n",
       "┃<span style=\"font-weight: bold\"> Layer (type)                         </span>┃<span style=\"font-weight: bold\"> Output Shape                </span>┃<span style=\"font-weight: bold\">         Param # </span>┃\n",
       "┡━━━━━━━━━━━━━━━━━━━━━━━━━━━━━━━━━━━━━━╇━━━━━━━━━━━━━━━━━━━━━━━━━━━━━╇━━━━━━━━━━━━━━━━━┩\n",
       "│ simple_rnn (<span style=\"color: #0087ff; text-decoration-color: #0087ff\">SimpleRNN</span>)               │ (<span style=\"color: #00d7ff; text-decoration-color: #00d7ff\">None</span>, <span style=\"color: #00af00; text-decoration-color: #00af00\">4</span>)                   │              <span style=\"color: #00af00; text-decoration-color: #00af00\">40</span> │\n",
       "├──────────────────────────────────────┼─────────────────────────────┼─────────────────┤\n",
       "│ dense_2 (<span style=\"color: #0087ff; text-decoration-color: #0087ff\">Dense</span>)                      │ (<span style=\"color: #00d7ff; text-decoration-color: #00d7ff\">None</span>, <span style=\"color: #00af00; text-decoration-color: #00af00\">1</span>)                   │               <span style=\"color: #00af00; text-decoration-color: #00af00\">5</span> │\n",
       "└──────────────────────────────────────┴─────────────────────────────┴─────────────────┘\n",
       "</pre>\n"
      ],
      "text/plain": [
       "┏━━━━━━━━━━━━━━━━━━━━━━━━━━━━━━━━━━━━━━┳━━━━━━━━━━━━━━━━━━━━━━━━━━━━━┳━━━━━━━━━━━━━━━━━┓\n",
       "┃\u001b[1m \u001b[0m\u001b[1mLayer (type)                        \u001b[0m\u001b[1m \u001b[0m┃\u001b[1m \u001b[0m\u001b[1mOutput Shape               \u001b[0m\u001b[1m \u001b[0m┃\u001b[1m \u001b[0m\u001b[1m        Param #\u001b[0m\u001b[1m \u001b[0m┃\n",
       "┡━━━━━━━━━━━━━━━━━━━━━━━━━━━━━━━━━━━━━━╇━━━━━━━━━━━━━━━━━━━━━━━━━━━━━╇━━━━━━━━━━━━━━━━━┩\n",
       "│ simple_rnn (\u001b[38;5;33mSimpleRNN\u001b[0m)               │ (\u001b[38;5;45mNone\u001b[0m, \u001b[38;5;34m4\u001b[0m)                   │              \u001b[38;5;34m40\u001b[0m │\n",
       "├──────────────────────────────────────┼─────────────────────────────┼─────────────────┤\n",
       "│ dense_2 (\u001b[38;5;33mDense\u001b[0m)                      │ (\u001b[38;5;45mNone\u001b[0m, \u001b[38;5;34m1\u001b[0m)                   │               \u001b[38;5;34m5\u001b[0m │\n",
       "└──────────────────────────────────────┴─────────────────────────────┴─────────────────┘\n"
      ]
     },
     "metadata": {},
     "output_type": "display_data"
    },
    {
     "data": {
      "text/html": [
       "<pre style=\"white-space:pre;overflow-x:auto;line-height:normal;font-family:Menlo,'DejaVu Sans Mono',consolas,'Courier New',monospace\"><span style=\"font-weight: bold\"> Total params: </span><span style=\"color: #00af00; text-decoration-color: #00af00\">45</span> (180.00 B)\n",
       "</pre>\n"
      ],
      "text/plain": [
       "\u001b[1m Total params: \u001b[0m\u001b[38;5;34m45\u001b[0m (180.00 B)\n"
      ]
     },
     "metadata": {},
     "output_type": "display_data"
    },
    {
     "data": {
      "text/html": [
       "<pre style=\"white-space:pre;overflow-x:auto;line-height:normal;font-family:Menlo,'DejaVu Sans Mono',consolas,'Courier New',monospace\"><span style=\"font-weight: bold\"> Trainable params: </span><span style=\"color: #00af00; text-decoration-color: #00af00\">45</span> (180.00 B)\n",
       "</pre>\n"
      ],
      "text/plain": [
       "\u001b[1m Trainable params: \u001b[0m\u001b[38;5;34m45\u001b[0m (180.00 B)\n"
      ]
     },
     "metadata": {},
     "output_type": "display_data"
    },
    {
     "data": {
      "text/html": [
       "<pre style=\"white-space:pre;overflow-x:auto;line-height:normal;font-family:Menlo,'DejaVu Sans Mono',consolas,'Courier New',monospace\"><span style=\"font-weight: bold\"> Non-trainable params: </span><span style=\"color: #00af00; text-decoration-color: #00af00\">0</span> (0.00 B)\n",
       "</pre>\n"
      ],
      "text/plain": [
       "\u001b[1m Non-trainable params: \u001b[0m\u001b[38;5;34m0\u001b[0m (0.00 B)\n"
      ]
     },
     "metadata": {},
     "output_type": "display_data"
    }
   ],
   "source": [
    "model.summary()"
   ]
  },
  {
   "cell_type": "markdown",
   "id": "199f63e3-535d-480b-ae55-2adfc43198a4",
   "metadata": {
    "jp-MarkdownHeadingCollapsed": true
   },
   "source": [
    "# Next Word Predictor Using LSTM"
   ]
  },
  {
   "cell_type": "code",
   "execution_count": 8,
   "id": "8bbbff69-1107-41d3-ab27-667b7db715be",
   "metadata": {},
   "outputs": [],
   "source": [
    "resume = \"\"\"\n",
    "Saurav Kapadiya\n",
    "ThinkBiz Technology Pvt Ltd: Junior Python Developer May 2024 - present\n",
    " Developed and deployed live products utilizing OCR technology and large language models (LLMs) such as\n",
    "GPT.\n",
    " Improved data extraction accuracy and natural language processing capabilities using advanced AI tech-\n",
    "niques.\n",
    " Collaborated with cross-functional teams to integrate AI solutions seamlessly into existing systems.\n",
    "\n",
    "Institute for Plasma Research: Project intern Jan 2024 - May 2024\n",
    " Project Title: Optimized LSTM-based Deep Learning Model for Real-Time Plasma Disruption Event Pre-\n",
    "diction\n",
    " Developed and optimized an LSTM time-series model for predicting plasma disruption events in tokamak\n",
    "fusion reactors.\n",
    " Achieved significant improvement in model accuracy through optimization techniques, enabling real-time\n",
    "deployment on a dedicated server for early disruption warnings\n",
    "\n",
    "AI Mock Interviewer\n",
    " Developed an AI-driven speech-based interviewer platform designed to streamline the interview process by\n",
    "leveraging speech recognition and synthesis technologies.\n",
    " Employed advanced NLP models (e.g., Gemini) to parse job descriptions and CVs, generating customized\n",
    "and contextually relevant interview questions.\n",
    " Enabled continuous listening and speaking capabilities for dynamic and engaging interview sessions.\n",
    "Automatic CAPTCHA Recognition\n",
    " Successfully built and trained an OCR model using TensorFlow & Keras.\n",
    " Implemented a CNN architecture with multiple Convolutional and Pooling layers to extract features from\n",
    "CAPTCHA images.\n",
    " Project focused on breaking down captchas into individual characters for improved recognition.\n",
    "\n",
    "Education\n",
    "Nov 2020 - present B.Tech (Information and Communication Technology)\n",
    "at Dhirubhai Ambani Institute of Information\n",
    "and Communication Technology (DA-IICT)\n",
    "\n",
    "June 2019 - May 2020 Class 12th GHSEB \n",
    "June 2017 - May 2018 Class 10th GSEB\n",
    "\n",
    "Python Machine learning, Deep learning, OpenCV, Computer Vision, Flask, Prompt Engineer-\n",
    "ing, LLMs\n",
    "C/C++ Data structures and Algorithms, Object-Oriented Programming\n",
    "\"\"\""
   ]
  },
  {
   "cell_type": "code",
   "execution_count": 9,
   "id": "de35cb7c-3876-45aa-a1c3-ff4ebdeb02fd",
   "metadata": {},
   "outputs": [],
   "source": [
    "import tensorflow as tf\n",
    "from tensorflow.keras.preprocessing.text import Tokenizer"
   ]
  },
  {
   "cell_type": "code",
   "execution_count": 10,
   "id": "f30bddec-ccd1-479f-a649-13b24d6c29f3",
   "metadata": {},
   "outputs": [],
   "source": [
    "tokenizer = Tokenizer()"
   ]
  },
  {
   "cell_type": "code",
   "execution_count": 11,
   "id": "fca5e761-5c7b-4b6d-b5d1-2257c730db0b",
   "metadata": {},
   "outputs": [],
   "source": [
    "tokenizer.fit_on_texts([resume])"
   ]
  },
  {
   "cell_type": "code",
   "execution_count": 12,
   "id": "2200e05a-cf37-4154-8d91-b12f820d98cb",
   "metadata": {
    "scrolled": true
   },
   "outputs": [
    {
     "data": {
      "text/plain": [
       "{'and': 1,\n",
       " 'for': 2,\n",
       " 'technology': 3,\n",
       " 'may': 4,\n",
       " 'ai': 5,\n",
       " 'to': 6,\n",
       " 'model': 7,\n",
       " '2024': 8,\n",
       " 'developed': 9,\n",
       " 'plasma': 10,\n",
       " 'project': 11,\n",
       " 'learning': 12,\n",
       " 'time': 13,\n",
       " 'disruption': 14,\n",
       " 'an': 15,\n",
       " 'interview': 16,\n",
       " 'recognition': 17,\n",
       " 'python': 18,\n",
       " 'present': 19,\n",
       " 'ocr': 20,\n",
       " 'language': 21,\n",
       " 'models': 22,\n",
       " 'llms': 23,\n",
       " 'improved': 24,\n",
       " 'data': 25,\n",
       " 'accuracy': 26,\n",
       " 'capabilities': 27,\n",
       " 'using': 28,\n",
       " 'advanced': 29,\n",
       " 'tech': 30,\n",
       " 'with': 31,\n",
       " 'into': 32,\n",
       " 'institute': 33,\n",
       " 'optimized': 34,\n",
       " 'lstm': 35,\n",
       " 'based': 36,\n",
       " 'deep': 37,\n",
       " 'real': 38,\n",
       " 'in': 39,\n",
       " 'on': 40,\n",
       " 'a': 41,\n",
       " 'interviewer': 42,\n",
       " 'speech': 43,\n",
       " 'captcha': 44,\n",
       " '2020': 45,\n",
       " 'information': 46,\n",
       " 'communication': 47,\n",
       " 'june': 48,\n",
       " 'class': 49,\n",
       " 'c': 50,\n",
       " 'saurav': 51,\n",
       " 'kapadiya': 52,\n",
       " 'thinkbiz': 53,\n",
       " 'pvt': 54,\n",
       " 'ltd': 55,\n",
       " 'junior': 56,\n",
       " 'developer': 57,\n",
       " 'deployed': 58,\n",
       " 'live': 59,\n",
       " 'products': 60,\n",
       " 'utilizing': 61,\n",
       " 'large': 62,\n",
       " 'such': 63,\n",
       " 'as': 64,\n",
       " 'gpt': 65,\n",
       " 'extraction': 66,\n",
       " 'natural': 67,\n",
       " 'processing': 68,\n",
       " 'niques': 69,\n",
       " 'collaborated': 70,\n",
       " 'cross': 71,\n",
       " 'functional': 72,\n",
       " 'teams': 73,\n",
       " 'integrate': 74,\n",
       " 'solutions': 75,\n",
       " 'seamlessly': 76,\n",
       " 'existing': 77,\n",
       " 'systems': 78,\n",
       " 'research': 79,\n",
       " 'intern': 80,\n",
       " 'jan': 81,\n",
       " 'title': 82,\n",
       " 'event': 83,\n",
       " 'pre': 84,\n",
       " 'diction': 85,\n",
       " 'series': 86,\n",
       " 'predicting': 87,\n",
       " 'events': 88,\n",
       " 'tokamak': 89,\n",
       " 'fusion': 90,\n",
       " 'reactors': 91,\n",
       " 'achieved': 92,\n",
       " 'significant': 93,\n",
       " 'improvement': 94,\n",
       " 'through': 95,\n",
       " 'optimization': 96,\n",
       " 'techniques': 97,\n",
       " 'enabling': 98,\n",
       " 'deployment': 99,\n",
       " 'dedicated': 100,\n",
       " 'server': 101,\n",
       " 'early': 102,\n",
       " 'warnings': 103,\n",
       " 'mock': 104,\n",
       " 'driven': 105,\n",
       " 'platform': 106,\n",
       " 'designed': 107,\n",
       " 'streamline': 108,\n",
       " 'the': 109,\n",
       " 'process': 110,\n",
       " 'by': 111,\n",
       " 'leveraging': 112,\n",
       " 'synthesis': 113,\n",
       " 'technologies': 114,\n",
       " 'employed': 115,\n",
       " 'nlp': 116,\n",
       " 'e': 117,\n",
       " 'g': 118,\n",
       " 'gemini': 119,\n",
       " 'parse': 120,\n",
       " 'job': 121,\n",
       " 'descriptions': 122,\n",
       " 'cvs': 123,\n",
       " 'generating': 124,\n",
       " 'customized': 125,\n",
       " 'contextually': 126,\n",
       " 'relevant': 127,\n",
       " 'questions': 128,\n",
       " 'enabled': 129,\n",
       " 'continuous': 130,\n",
       " 'listening': 131,\n",
       " 'speaking': 132,\n",
       " 'dynamic': 133,\n",
       " 'engaging': 134,\n",
       " 'sessions': 135,\n",
       " 'automatic': 136,\n",
       " 'successfully': 137,\n",
       " 'built': 138,\n",
       " 'trained': 139,\n",
       " 'tensorflow': 140,\n",
       " 'keras': 141,\n",
       " 'implemented': 142,\n",
       " 'cnn': 143,\n",
       " 'architecture': 144,\n",
       " 'multiple': 145,\n",
       " 'convolutional': 146,\n",
       " 'pooling': 147,\n",
       " 'layers': 148,\n",
       " 'extract': 149,\n",
       " 'features': 150,\n",
       " 'from': 151,\n",
       " 'images': 152,\n",
       " 'focused': 153,\n",
       " 'breaking': 154,\n",
       " 'down': 155,\n",
       " 'captchas': 156,\n",
       " 'individual': 157,\n",
       " 'characters': 158,\n",
       " 'education': 159,\n",
       " 'nov': 160,\n",
       " 'b': 161,\n",
       " 'at': 162,\n",
       " 'dhirubhai': 163,\n",
       " 'ambani': 164,\n",
       " 'of': 165,\n",
       " 'da': 166,\n",
       " 'iict': 167,\n",
       " '2019': 168,\n",
       " '12th': 169,\n",
       " 'ghseb': 170,\n",
       " '2017': 171,\n",
       " '2018': 172,\n",
       " '10th': 173,\n",
       " 'gseb': 174,\n",
       " 'machine': 175,\n",
       " 'opencv': 176,\n",
       " 'computer': 177,\n",
       " 'vision': 178,\n",
       " 'flask': 179,\n",
       " 'prompt': 180,\n",
       " 'engineer': 181,\n",
       " 'ing': 182,\n",
       " 'structures': 183,\n",
       " 'algorithms': 184,\n",
       " 'object': 185,\n",
       " 'oriented': 186,\n",
       " 'programming': 187}"
      ]
     },
     "execution_count": 12,
     "metadata": {},
     "output_type": "execute_result"
    }
   ],
   "source": [
    "tokenizer.word_index"
   ]
  },
  {
   "cell_type": "code",
   "execution_count": 13,
   "id": "1d4e473e-cce0-4044-8d76-f6bb9307fd60",
   "metadata": {},
   "outputs": [
    {
     "data": {
      "text/plain": [
       "187"
      ]
     },
     "execution_count": 13,
     "metadata": {},
     "output_type": "execute_result"
    }
   ],
   "source": [
    "len(tokenizer.word_index)"
   ]
  },
  {
   "cell_type": "code",
   "execution_count": 14,
   "id": "5db187cc-29bc-4866-bb42-ac93737aff05",
   "metadata": {},
   "outputs": [
    {
     "name": "stdout",
     "output_type": "stream",
     "text": [
      "[]\n",
      "[51, 52]\n",
      "[53, 3, 54, 55, 56, 18, 57, 4, 8, 19]\n",
      "[9, 1, 58, 59, 60, 61, 20, 3, 1, 62, 21, 22, 23, 63, 64]\n",
      "[65]\n",
      "[24, 25, 66, 26, 1, 67, 21, 68, 27, 28, 29, 5, 30]\n",
      "[69]\n",
      "[70, 31, 71, 72, 73, 6, 74, 5, 75, 76, 32, 77, 78]\n",
      "[]\n",
      "[33, 2, 10, 79, 11, 80, 81, 8, 4, 8]\n",
      "[11, 82, 34, 35, 36, 37, 12, 7, 2, 38, 13, 10, 14, 83, 84]\n",
      "[85]\n",
      "[9, 1, 34, 15, 35, 13, 86, 7, 2, 87, 10, 14, 88, 39, 89]\n",
      "[90, 91]\n",
      "[92, 93, 94, 39, 7, 26, 95, 96, 97, 98, 38, 13]\n",
      "[99, 40, 41, 100, 101, 2, 102, 14, 103]\n",
      "[]\n",
      "[5, 104, 42]\n",
      "[9, 15, 5, 105, 43, 36, 42, 106, 107, 6, 108, 109, 16, 110, 111]\n",
      "[112, 43, 17, 1, 113, 114]\n",
      "[115, 29, 116, 22, 117, 118, 119, 6, 120, 121, 122, 1, 123, 124, 125]\n",
      "[1, 126, 127, 16, 128]\n",
      "[129, 130, 131, 1, 132, 27, 2, 133, 1, 134, 16, 135]\n",
      "[136, 44, 17]\n",
      "[137, 138, 1, 139, 15, 20, 7, 28, 140, 141]\n",
      "[142, 41, 143, 144, 31, 145, 146, 1, 147, 148, 6, 149, 150, 151]\n",
      "[44, 152]\n",
      "[11, 153, 40, 154, 155, 156, 32, 157, 158, 2, 24, 17]\n",
      "[]\n",
      "[159]\n",
      "[160, 45, 19, 161, 30, 46, 1, 47, 3]\n",
      "[162, 163, 164, 33, 165, 46]\n",
      "[1, 47, 3, 166, 167]\n",
      "[]\n",
      "[48, 168, 4, 45, 49, 169, 170]\n",
      "[48, 171, 4, 172, 49, 173, 174]\n",
      "[]\n",
      "[18, 175, 12, 37, 12, 176, 177, 178, 179, 180, 181]\n",
      "[182, 23]\n",
      "[50, 50, 25, 183, 1, 184, 185, 186, 187]\n",
      "[]\n"
     ]
    }
   ],
   "source": [
    "input_sequences = []\n",
    "\n",
    "for sentence in resume.split('\\n'):\n",
    "    print(tokenizer.texts_to_sequences([sentence])[0])\n",
    "    tokenized_sentence = tokenizer.texts_to_sequences([sentence])[0]\n",
    "\n",
    "\n",
    "    for i in range(1,len(tokenized_sentence)):\n",
    "        input_sequences.append(tokenized_sentence[:i+1])"
   ]
  },
  {
   "cell_type": "code",
   "execution_count": 15,
   "id": "1728cb15-d500-48cb-aaa5-89226f8b4e6a",
   "metadata": {
    "scrolled": true
   },
   "outputs": [
    {
     "data": {
      "text/plain": [
       "[[51, 52],\n",
       " [53, 3],\n",
       " [53, 3, 54],\n",
       " [53, 3, 54, 55],\n",
       " [53, 3, 54, 55, 56],\n",
       " [53, 3, 54, 55, 56, 18],\n",
       " [53, 3, 54, 55, 56, 18, 57],\n",
       " [53, 3, 54, 55, 56, 18, 57, 4],\n",
       " [53, 3, 54, 55, 56, 18, 57, 4, 8],\n",
       " [53, 3, 54, 55, 56, 18, 57, 4, 8, 19],\n",
       " [9, 1],\n",
       " [9, 1, 58],\n",
       " [9, 1, 58, 59],\n",
       " [9, 1, 58, 59, 60],\n",
       " [9, 1, 58, 59, 60, 61],\n",
       " [9, 1, 58, 59, 60, 61, 20],\n",
       " [9, 1, 58, 59, 60, 61, 20, 3],\n",
       " [9, 1, 58, 59, 60, 61, 20, 3, 1],\n",
       " [9, 1, 58, 59, 60, 61, 20, 3, 1, 62],\n",
       " [9, 1, 58, 59, 60, 61, 20, 3, 1, 62, 21],\n",
       " [9, 1, 58, 59, 60, 61, 20, 3, 1, 62, 21, 22],\n",
       " [9, 1, 58, 59, 60, 61, 20, 3, 1, 62, 21, 22, 23],\n",
       " [9, 1, 58, 59, 60, 61, 20, 3, 1, 62, 21, 22, 23, 63],\n",
       " [9, 1, 58, 59, 60, 61, 20, 3, 1, 62, 21, 22, 23, 63, 64],\n",
       " [24, 25],\n",
       " [24, 25, 66],\n",
       " [24, 25, 66, 26],\n",
       " [24, 25, 66, 26, 1],\n",
       " [24, 25, 66, 26, 1, 67],\n",
       " [24, 25, 66, 26, 1, 67, 21],\n",
       " [24, 25, 66, 26, 1, 67, 21, 68],\n",
       " [24, 25, 66, 26, 1, 67, 21, 68, 27],\n",
       " [24, 25, 66, 26, 1, 67, 21, 68, 27, 28],\n",
       " [24, 25, 66, 26, 1, 67, 21, 68, 27, 28, 29],\n",
       " [24, 25, 66, 26, 1, 67, 21, 68, 27, 28, 29, 5],\n",
       " [24, 25, 66, 26, 1, 67, 21, 68, 27, 28, 29, 5, 30],\n",
       " [70, 31],\n",
       " [70, 31, 71],\n",
       " [70, 31, 71, 72],\n",
       " [70, 31, 71, 72, 73],\n",
       " [70, 31, 71, 72, 73, 6],\n",
       " [70, 31, 71, 72, 73, 6, 74],\n",
       " [70, 31, 71, 72, 73, 6, 74, 5],\n",
       " [70, 31, 71, 72, 73, 6, 74, 5, 75],\n",
       " [70, 31, 71, 72, 73, 6, 74, 5, 75, 76],\n",
       " [70, 31, 71, 72, 73, 6, 74, 5, 75, 76, 32],\n",
       " [70, 31, 71, 72, 73, 6, 74, 5, 75, 76, 32, 77],\n",
       " [70, 31, 71, 72, 73, 6, 74, 5, 75, 76, 32, 77, 78],\n",
       " [33, 2],\n",
       " [33, 2, 10],\n",
       " [33, 2, 10, 79],\n",
       " [33, 2, 10, 79, 11],\n",
       " [33, 2, 10, 79, 11, 80],\n",
       " [33, 2, 10, 79, 11, 80, 81],\n",
       " [33, 2, 10, 79, 11, 80, 81, 8],\n",
       " [33, 2, 10, 79, 11, 80, 81, 8, 4],\n",
       " [33, 2, 10, 79, 11, 80, 81, 8, 4, 8],\n",
       " [11, 82],\n",
       " [11, 82, 34],\n",
       " [11, 82, 34, 35],\n",
       " [11, 82, 34, 35, 36],\n",
       " [11, 82, 34, 35, 36, 37],\n",
       " [11, 82, 34, 35, 36, 37, 12],\n",
       " [11, 82, 34, 35, 36, 37, 12, 7],\n",
       " [11, 82, 34, 35, 36, 37, 12, 7, 2],\n",
       " [11, 82, 34, 35, 36, 37, 12, 7, 2, 38],\n",
       " [11, 82, 34, 35, 36, 37, 12, 7, 2, 38, 13],\n",
       " [11, 82, 34, 35, 36, 37, 12, 7, 2, 38, 13, 10],\n",
       " [11, 82, 34, 35, 36, 37, 12, 7, 2, 38, 13, 10, 14],\n",
       " [11, 82, 34, 35, 36, 37, 12, 7, 2, 38, 13, 10, 14, 83],\n",
       " [11, 82, 34, 35, 36, 37, 12, 7, 2, 38, 13, 10, 14, 83, 84],\n",
       " [9, 1],\n",
       " [9, 1, 34],\n",
       " [9, 1, 34, 15],\n",
       " [9, 1, 34, 15, 35],\n",
       " [9, 1, 34, 15, 35, 13],\n",
       " [9, 1, 34, 15, 35, 13, 86],\n",
       " [9, 1, 34, 15, 35, 13, 86, 7],\n",
       " [9, 1, 34, 15, 35, 13, 86, 7, 2],\n",
       " [9, 1, 34, 15, 35, 13, 86, 7, 2, 87],\n",
       " [9, 1, 34, 15, 35, 13, 86, 7, 2, 87, 10],\n",
       " [9, 1, 34, 15, 35, 13, 86, 7, 2, 87, 10, 14],\n",
       " [9, 1, 34, 15, 35, 13, 86, 7, 2, 87, 10, 14, 88],\n",
       " [9, 1, 34, 15, 35, 13, 86, 7, 2, 87, 10, 14, 88, 39],\n",
       " [9, 1, 34, 15, 35, 13, 86, 7, 2, 87, 10, 14, 88, 39, 89],\n",
       " [90, 91],\n",
       " [92, 93],\n",
       " [92, 93, 94],\n",
       " [92, 93, 94, 39],\n",
       " [92, 93, 94, 39, 7],\n",
       " [92, 93, 94, 39, 7, 26],\n",
       " [92, 93, 94, 39, 7, 26, 95],\n",
       " [92, 93, 94, 39, 7, 26, 95, 96],\n",
       " [92, 93, 94, 39, 7, 26, 95, 96, 97],\n",
       " [92, 93, 94, 39, 7, 26, 95, 96, 97, 98],\n",
       " [92, 93, 94, 39, 7, 26, 95, 96, 97, 98, 38],\n",
       " [92, 93, 94, 39, 7, 26, 95, 96, 97, 98, 38, 13],\n",
       " [99, 40],\n",
       " [99, 40, 41],\n",
       " [99, 40, 41, 100],\n",
       " [99, 40, 41, 100, 101],\n",
       " [99, 40, 41, 100, 101, 2],\n",
       " [99, 40, 41, 100, 101, 2, 102],\n",
       " [99, 40, 41, 100, 101, 2, 102, 14],\n",
       " [99, 40, 41, 100, 101, 2, 102, 14, 103],\n",
       " [5, 104],\n",
       " [5, 104, 42],\n",
       " [9, 15],\n",
       " [9, 15, 5],\n",
       " [9, 15, 5, 105],\n",
       " [9, 15, 5, 105, 43],\n",
       " [9, 15, 5, 105, 43, 36],\n",
       " [9, 15, 5, 105, 43, 36, 42],\n",
       " [9, 15, 5, 105, 43, 36, 42, 106],\n",
       " [9, 15, 5, 105, 43, 36, 42, 106, 107],\n",
       " [9, 15, 5, 105, 43, 36, 42, 106, 107, 6],\n",
       " [9, 15, 5, 105, 43, 36, 42, 106, 107, 6, 108],\n",
       " [9, 15, 5, 105, 43, 36, 42, 106, 107, 6, 108, 109],\n",
       " [9, 15, 5, 105, 43, 36, 42, 106, 107, 6, 108, 109, 16],\n",
       " [9, 15, 5, 105, 43, 36, 42, 106, 107, 6, 108, 109, 16, 110],\n",
       " [9, 15, 5, 105, 43, 36, 42, 106, 107, 6, 108, 109, 16, 110, 111],\n",
       " [112, 43],\n",
       " [112, 43, 17],\n",
       " [112, 43, 17, 1],\n",
       " [112, 43, 17, 1, 113],\n",
       " [112, 43, 17, 1, 113, 114],\n",
       " [115, 29],\n",
       " [115, 29, 116],\n",
       " [115, 29, 116, 22],\n",
       " [115, 29, 116, 22, 117],\n",
       " [115, 29, 116, 22, 117, 118],\n",
       " [115, 29, 116, 22, 117, 118, 119],\n",
       " [115, 29, 116, 22, 117, 118, 119, 6],\n",
       " [115, 29, 116, 22, 117, 118, 119, 6, 120],\n",
       " [115, 29, 116, 22, 117, 118, 119, 6, 120, 121],\n",
       " [115, 29, 116, 22, 117, 118, 119, 6, 120, 121, 122],\n",
       " [115, 29, 116, 22, 117, 118, 119, 6, 120, 121, 122, 1],\n",
       " [115, 29, 116, 22, 117, 118, 119, 6, 120, 121, 122, 1, 123],\n",
       " [115, 29, 116, 22, 117, 118, 119, 6, 120, 121, 122, 1, 123, 124],\n",
       " [115, 29, 116, 22, 117, 118, 119, 6, 120, 121, 122, 1, 123, 124, 125],\n",
       " [1, 126],\n",
       " [1, 126, 127],\n",
       " [1, 126, 127, 16],\n",
       " [1, 126, 127, 16, 128],\n",
       " [129, 130],\n",
       " [129, 130, 131],\n",
       " [129, 130, 131, 1],\n",
       " [129, 130, 131, 1, 132],\n",
       " [129, 130, 131, 1, 132, 27],\n",
       " [129, 130, 131, 1, 132, 27, 2],\n",
       " [129, 130, 131, 1, 132, 27, 2, 133],\n",
       " [129, 130, 131, 1, 132, 27, 2, 133, 1],\n",
       " [129, 130, 131, 1, 132, 27, 2, 133, 1, 134],\n",
       " [129, 130, 131, 1, 132, 27, 2, 133, 1, 134, 16],\n",
       " [129, 130, 131, 1, 132, 27, 2, 133, 1, 134, 16, 135],\n",
       " [136, 44],\n",
       " [136, 44, 17],\n",
       " [137, 138],\n",
       " [137, 138, 1],\n",
       " [137, 138, 1, 139],\n",
       " [137, 138, 1, 139, 15],\n",
       " [137, 138, 1, 139, 15, 20],\n",
       " [137, 138, 1, 139, 15, 20, 7],\n",
       " [137, 138, 1, 139, 15, 20, 7, 28],\n",
       " [137, 138, 1, 139, 15, 20, 7, 28, 140],\n",
       " [137, 138, 1, 139, 15, 20, 7, 28, 140, 141],\n",
       " [142, 41],\n",
       " [142, 41, 143],\n",
       " [142, 41, 143, 144],\n",
       " [142, 41, 143, 144, 31],\n",
       " [142, 41, 143, 144, 31, 145],\n",
       " [142, 41, 143, 144, 31, 145, 146],\n",
       " [142, 41, 143, 144, 31, 145, 146, 1],\n",
       " [142, 41, 143, 144, 31, 145, 146, 1, 147],\n",
       " [142, 41, 143, 144, 31, 145, 146, 1, 147, 148],\n",
       " [142, 41, 143, 144, 31, 145, 146, 1, 147, 148, 6],\n",
       " [142, 41, 143, 144, 31, 145, 146, 1, 147, 148, 6, 149],\n",
       " [142, 41, 143, 144, 31, 145, 146, 1, 147, 148, 6, 149, 150],\n",
       " [142, 41, 143, 144, 31, 145, 146, 1, 147, 148, 6, 149, 150, 151],\n",
       " [44, 152],\n",
       " [11, 153],\n",
       " [11, 153, 40],\n",
       " [11, 153, 40, 154],\n",
       " [11, 153, 40, 154, 155],\n",
       " [11, 153, 40, 154, 155, 156],\n",
       " [11, 153, 40, 154, 155, 156, 32],\n",
       " [11, 153, 40, 154, 155, 156, 32, 157],\n",
       " [11, 153, 40, 154, 155, 156, 32, 157, 158],\n",
       " [11, 153, 40, 154, 155, 156, 32, 157, 158, 2],\n",
       " [11, 153, 40, 154, 155, 156, 32, 157, 158, 2, 24],\n",
       " [11, 153, 40, 154, 155, 156, 32, 157, 158, 2, 24, 17],\n",
       " [160, 45],\n",
       " [160, 45, 19],\n",
       " [160, 45, 19, 161],\n",
       " [160, 45, 19, 161, 30],\n",
       " [160, 45, 19, 161, 30, 46],\n",
       " [160, 45, 19, 161, 30, 46, 1],\n",
       " [160, 45, 19, 161, 30, 46, 1, 47],\n",
       " [160, 45, 19, 161, 30, 46, 1, 47, 3],\n",
       " [162, 163],\n",
       " [162, 163, 164],\n",
       " [162, 163, 164, 33],\n",
       " [162, 163, 164, 33, 165],\n",
       " [162, 163, 164, 33, 165, 46],\n",
       " [1, 47],\n",
       " [1, 47, 3],\n",
       " [1, 47, 3, 166],\n",
       " [1, 47, 3, 166, 167],\n",
       " [48, 168],\n",
       " [48, 168, 4],\n",
       " [48, 168, 4, 45],\n",
       " [48, 168, 4, 45, 49],\n",
       " [48, 168, 4, 45, 49, 169],\n",
       " [48, 168, 4, 45, 49, 169, 170],\n",
       " [48, 171],\n",
       " [48, 171, 4],\n",
       " [48, 171, 4, 172],\n",
       " [48, 171, 4, 172, 49],\n",
       " [48, 171, 4, 172, 49, 173],\n",
       " [48, 171, 4, 172, 49, 173, 174],\n",
       " [18, 175],\n",
       " [18, 175, 12],\n",
       " [18, 175, 12, 37],\n",
       " [18, 175, 12, 37, 12],\n",
       " [18, 175, 12, 37, 12, 176],\n",
       " [18, 175, 12, 37, 12, 176, 177],\n",
       " [18, 175, 12, 37, 12, 176, 177, 178],\n",
       " [18, 175, 12, 37, 12, 176, 177, 178, 179],\n",
       " [18, 175, 12, 37, 12, 176, 177, 178, 179, 180],\n",
       " [18, 175, 12, 37, 12, 176, 177, 178, 179, 180, 181],\n",
       " [182, 23],\n",
       " [50, 50],\n",
       " [50, 50, 25],\n",
       " [50, 50, 25, 183],\n",
       " [50, 50, 25, 183, 1],\n",
       " [50, 50, 25, 183, 1, 184],\n",
       " [50, 50, 25, 183, 1, 184, 185],\n",
       " [50, 50, 25, 183, 1, 184, 185, 186],\n",
       " [50, 50, 25, 183, 1, 184, 185, 186, 187]]"
      ]
     },
     "execution_count": 15,
     "metadata": {},
     "output_type": "execute_result"
    }
   ],
   "source": [
    "input_sequences"
   ]
  },
  {
   "cell_type": "code",
   "execution_count": 16,
   "id": "cb02f5a1-75c1-4a0b-bc13-6fdf302559af",
   "metadata": {},
   "outputs": [],
   "source": [
    "max_len = max([len(x) for x in input_sequences])"
   ]
  },
  {
   "cell_type": "code",
   "execution_count": 17,
   "id": "491f313c-7786-4273-aec3-030e2727823a",
   "metadata": {},
   "outputs": [
    {
     "data": {
      "text/plain": [
       "15"
      ]
     },
     "execution_count": 17,
     "metadata": {},
     "output_type": "execute_result"
    }
   ],
   "source": [
    "max_len"
   ]
  },
  {
   "cell_type": "code",
   "execution_count": 18,
   "id": "367d29c6-f72a-4d47-b445-18dd95ad0a32",
   "metadata": {},
   "outputs": [
    {
     "name": "stdout",
     "output_type": "stream",
     "text": [
      "[[  0   0   0 ...   0  51  52]\n",
      " [  0   0   0 ...   0  53   3]\n",
      " [  0   0   0 ...  53   3  54]\n",
      " ...\n",
      " [  0   0   0 ...   1 184 185]\n",
      " [  0   0   0 ... 184 185 186]\n",
      " [  0   0   0 ... 185 186 187]]\n"
     ]
    }
   ],
   "source": [
    "from keras.preprocessing.sequence import pad_sequences\n",
    "\n",
    "padded_input_sequences = pad_sequences(input_sequences, maxlen=max_len, padding='pre')\n",
    "\n",
    "print(padded_input_sequences)"
   ]
  },
  {
   "cell_type": "code",
   "execution_count": 19,
   "id": "74892097-8183-437a-8394-f9963ab3eaa1",
   "metadata": {},
   "outputs": [
    {
     "name": "stdout",
     "output_type": "stream",
     "text": [
      "[[  0   0   0 ...   0   0  51]\n",
      " [  0   0   0 ...   0   0  53]\n",
      " [  0   0   0 ...   0  53   3]\n",
      " ...\n",
      " [  0   0   0 ... 183   1 184]\n",
      " [  0   0   0 ...   1 184 185]\n",
      " [  0   0   0 ... 184 185 186]]\n"
     ]
    }
   ],
   "source": [
    "X = padded_input_sequences[:,:-1]\n",
    "print(X)"
   ]
  },
  {
   "cell_type": "code",
   "execution_count": 20,
   "id": "a24e59eb-7a62-409e-ab14-8272f40866cd",
   "metadata": {
    "scrolled": true
   },
   "outputs": [
    {
     "name": "stdout",
     "output_type": "stream",
     "text": [
      "[ 52   3  54  55  56  18  57   4   8  19   1  58  59  60  61  20   3   1\n",
      "  62  21  22  23  63  64  25  66  26   1  67  21  68  27  28  29   5  30\n",
      "  31  71  72  73   6  74   5  75  76  32  77  78   2  10  79  11  80  81\n",
      "   8   4   8  82  34  35  36  37  12   7   2  38  13  10  14  83  84   1\n",
      "  34  15  35  13  86   7   2  87  10  14  88  39  89  91  93  94  39   7\n",
      "  26  95  96  97  98  38  13  40  41 100 101   2 102  14 103 104  42  15\n",
      "   5 105  43  36  42 106 107   6 108 109  16 110 111  43  17   1 113 114\n",
      "  29 116  22 117 118 119   6 120 121 122   1 123 124 125 126 127  16 128\n",
      " 130 131   1 132  27   2 133   1 134  16 135  44  17 138   1 139  15  20\n",
      "   7  28 140 141  41 143 144  31 145 146   1 147 148   6 149 150 151 152\n",
      " 153  40 154 155 156  32 157 158   2  24  17  45  19 161  30  46   1  47\n",
      "   3 163 164  33 165  46  47   3 166 167 168   4  45  49 169 170 171   4\n",
      " 172  49 173 174 175  12  37  12 176 177 178 179 180 181  23  50  25 183\n",
      "   1 184 185 186 187]\n"
     ]
    }
   ],
   "source": [
    "y = padded_input_sequences[:,-1]\n",
    "print(y)"
   ]
  },
  {
   "cell_type": "code",
   "execution_count": 21,
   "id": "dd0aea99-f78a-4948-9ca9-0cfb3123172f",
   "metadata": {},
   "outputs": [
    {
     "data": {
      "text/plain": [
       "(239, 14)"
      ]
     },
     "execution_count": 21,
     "metadata": {},
     "output_type": "execute_result"
    }
   ],
   "source": [
    "X.shape"
   ]
  },
  {
   "cell_type": "code",
   "execution_count": 22,
   "id": "932c8559-a223-46e5-8157-8b5c5625f8c6",
   "metadata": {},
   "outputs": [
    {
     "data": {
      "text/plain": [
       "(239,)"
      ]
     },
     "execution_count": 22,
     "metadata": {},
     "output_type": "execute_result"
    }
   ],
   "source": [
    "y.shape"
   ]
  },
  {
   "cell_type": "code",
   "execution_count": 23,
   "id": "b7de76d1-9da4-4ca6-a611-63df17c6c998",
   "metadata": {},
   "outputs": [
    {
     "data": {
      "text/plain": [
       "239"
      ]
     },
     "execution_count": 23,
     "metadata": {},
     "output_type": "execute_result"
    }
   ],
   "source": [
    "num_classes = len(X)\n",
    "num_classes"
   ]
  },
  {
   "cell_type": "code",
   "execution_count": 24,
   "id": "816a79bd-77e2-442b-8a02-a9c023b49e67",
   "metadata": {},
   "outputs": [],
   "source": [
    "from keras.utils import to_categorical\n",
    "y = to_categorical(y,num_classes=len(X))"
   ]
  },
  {
   "cell_type": "code",
   "execution_count": 25,
   "id": "19bc07dd-4a02-48ac-83a9-b1a6757ddea5",
   "metadata": {},
   "outputs": [
    {
     "data": {
      "text/plain": [
       "(239, 239)"
      ]
     },
     "execution_count": 25,
     "metadata": {},
     "output_type": "execute_result"
    }
   ],
   "source": [
    "y.shape"
   ]
  },
  {
   "cell_type": "code",
   "execution_count": 26,
   "id": "3ba5458e-8339-4be9-880c-65e00ca1357c",
   "metadata": {},
   "outputs": [],
   "source": [
    "from keras.models import Sequential\n",
    "from keras.layers import Input, Embedding, LSTM, Dense, SimpleRNN"
   ]
  },
  {
   "cell_type": "code",
   "execution_count": 27,
   "id": "a87c1838-9f57-4f30-bada-7b3c017b6901",
   "metadata": {},
   "outputs": [],
   "source": [
    "model = Sequential()\n",
    "model.add(Input(shape=(14,)))\n",
    "model.add(Embedding(input_dim=240,output_dim=100 ))\n",
    "# model.add(SimpleRNN(200, activation='tanh'))\n",
    "model.add(LSTM(200, activation='tanh'))\n",
    "model.add(Dense(num_classes, activation='softmax'))"
   ]
  },
  {
   "cell_type": "code",
   "execution_count": 28,
   "id": "683f30aa-a330-4c5a-b0a0-3be4d2d76eb5",
   "metadata": {},
   "outputs": [],
   "source": [
    "model.compile(loss='categorical_crossentropy', optimizer='adam', metrics=['accuracy'])"
   ]
  },
  {
   "cell_type": "code",
   "execution_count": 29,
   "id": "126954ce-6272-4139-9ef2-c45b976b15c0",
   "metadata": {},
   "outputs": [
    {
     "data": {
      "text/html": [
       "<pre style=\"white-space:pre;overflow-x:auto;line-height:normal;font-family:Menlo,'DejaVu Sans Mono',consolas,'Courier New',monospace\"><span style=\"font-weight: bold\">Model: \"sequential_2\"</span>\n",
       "</pre>\n"
      ],
      "text/plain": [
       "\u001b[1mModel: \"sequential_2\"\u001b[0m\n"
      ]
     },
     "metadata": {},
     "output_type": "display_data"
    },
    {
     "data": {
      "text/html": [
       "<pre style=\"white-space:pre;overflow-x:auto;line-height:normal;font-family:Menlo,'DejaVu Sans Mono',consolas,'Courier New',monospace\">┏━━━━━━━━━━━━━━━━━━━━━━━━━━━━━━━━━━━━━━┳━━━━━━━━━━━━━━━━━━━━━━━━━━━━━┳━━━━━━━━━━━━━━━━━┓\n",
       "┃<span style=\"font-weight: bold\"> Layer (type)                         </span>┃<span style=\"font-weight: bold\"> Output Shape                </span>┃<span style=\"font-weight: bold\">         Param # </span>┃\n",
       "┡━━━━━━━━━━━━━━━━━━━━━━━━━━━━━━━━━━━━━━╇━━━━━━━━━━━━━━━━━━━━━━━━━━━━━╇━━━━━━━━━━━━━━━━━┩\n",
       "│ embedding (<span style=\"color: #0087ff; text-decoration-color: #0087ff\">Embedding</span>)                │ (<span style=\"color: #00d7ff; text-decoration-color: #00d7ff\">None</span>, <span style=\"color: #00af00; text-decoration-color: #00af00\">14</span>, <span style=\"color: #00af00; text-decoration-color: #00af00\">100</span>)             │          <span style=\"color: #00af00; text-decoration-color: #00af00\">24,000</span> │\n",
       "├──────────────────────────────────────┼─────────────────────────────┼─────────────────┤\n",
       "│ lstm (<span style=\"color: #0087ff; text-decoration-color: #0087ff\">LSTM</span>)                          │ (<span style=\"color: #00d7ff; text-decoration-color: #00d7ff\">None</span>, <span style=\"color: #00af00; text-decoration-color: #00af00\">200</span>)                 │         <span style=\"color: #00af00; text-decoration-color: #00af00\">240,800</span> │\n",
       "├──────────────────────────────────────┼─────────────────────────────┼─────────────────┤\n",
       "│ dense_3 (<span style=\"color: #0087ff; text-decoration-color: #0087ff\">Dense</span>)                      │ (<span style=\"color: #00d7ff; text-decoration-color: #00d7ff\">None</span>, <span style=\"color: #00af00; text-decoration-color: #00af00\">239</span>)                 │          <span style=\"color: #00af00; text-decoration-color: #00af00\">48,039</span> │\n",
       "└──────────────────────────────────────┴─────────────────────────────┴─────────────────┘\n",
       "</pre>\n"
      ],
      "text/plain": [
       "┏━━━━━━━━━━━━━━━━━━━━━━━━━━━━━━━━━━━━━━┳━━━━━━━━━━━━━━━━━━━━━━━━━━━━━┳━━━━━━━━━━━━━━━━━┓\n",
       "┃\u001b[1m \u001b[0m\u001b[1mLayer (type)                        \u001b[0m\u001b[1m \u001b[0m┃\u001b[1m \u001b[0m\u001b[1mOutput Shape               \u001b[0m\u001b[1m \u001b[0m┃\u001b[1m \u001b[0m\u001b[1m        Param #\u001b[0m\u001b[1m \u001b[0m┃\n",
       "┡━━━━━━━━━━━━━━━━━━━━━━━━━━━━━━━━━━━━━━╇━━━━━━━━━━━━━━━━━━━━━━━━━━━━━╇━━━━━━━━━━━━━━━━━┩\n",
       "│ embedding (\u001b[38;5;33mEmbedding\u001b[0m)                │ (\u001b[38;5;45mNone\u001b[0m, \u001b[38;5;34m14\u001b[0m, \u001b[38;5;34m100\u001b[0m)             │          \u001b[38;5;34m24,000\u001b[0m │\n",
       "├──────────────────────────────────────┼─────────────────────────────┼─────────────────┤\n",
       "│ lstm (\u001b[38;5;33mLSTM\u001b[0m)                          │ (\u001b[38;5;45mNone\u001b[0m, \u001b[38;5;34m200\u001b[0m)                 │         \u001b[38;5;34m240,800\u001b[0m │\n",
       "├──────────────────────────────────────┼─────────────────────────────┼─────────────────┤\n",
       "│ dense_3 (\u001b[38;5;33mDense\u001b[0m)                      │ (\u001b[38;5;45mNone\u001b[0m, \u001b[38;5;34m239\u001b[0m)                 │          \u001b[38;5;34m48,039\u001b[0m │\n",
       "└──────────────────────────────────────┴─────────────────────────────┴─────────────────┘\n"
      ]
     },
     "metadata": {},
     "output_type": "display_data"
    },
    {
     "data": {
      "text/html": [
       "<pre style=\"white-space:pre;overflow-x:auto;line-height:normal;font-family:Menlo,'DejaVu Sans Mono',consolas,'Courier New',monospace\"><span style=\"font-weight: bold\"> Total params: </span><span style=\"color: #00af00; text-decoration-color: #00af00\">312,839</span> (1.19 MB)\n",
       "</pre>\n"
      ],
      "text/plain": [
       "\u001b[1m Total params: \u001b[0m\u001b[38;5;34m312,839\u001b[0m (1.19 MB)\n"
      ]
     },
     "metadata": {},
     "output_type": "display_data"
    },
    {
     "data": {
      "text/html": [
       "<pre style=\"white-space:pre;overflow-x:auto;line-height:normal;font-family:Menlo,'DejaVu Sans Mono',consolas,'Courier New',monospace\"><span style=\"font-weight: bold\"> Trainable params: </span><span style=\"color: #00af00; text-decoration-color: #00af00\">312,839</span> (1.19 MB)\n",
       "</pre>\n"
      ],
      "text/plain": [
       "\u001b[1m Trainable params: \u001b[0m\u001b[38;5;34m312,839\u001b[0m (1.19 MB)\n"
      ]
     },
     "metadata": {},
     "output_type": "display_data"
    },
    {
     "data": {
      "text/html": [
       "<pre style=\"white-space:pre;overflow-x:auto;line-height:normal;font-family:Menlo,'DejaVu Sans Mono',consolas,'Courier New',monospace\"><span style=\"font-weight: bold\"> Non-trainable params: </span><span style=\"color: #00af00; text-decoration-color: #00af00\">0</span> (0.00 B)\n",
       "</pre>\n"
      ],
      "text/plain": [
       "\u001b[1m Non-trainable params: \u001b[0m\u001b[38;5;34m0\u001b[0m (0.00 B)\n"
      ]
     },
     "metadata": {},
     "output_type": "display_data"
    }
   ],
   "source": [
    "model.summary()"
   ]
  },
  {
   "cell_type": "code",
   "execution_count": 30,
   "id": "76ceeb43-428c-4c39-82fc-bac894add734",
   "metadata": {},
   "outputs": [
    {
     "data": {
      "text/plain": [
       "array([[  0,   0,   0, ...,   0,   0,  51],\n",
       "       [  0,   0,   0, ...,   0,   0,  53],\n",
       "       [  0,   0,   0, ...,   0,  53,   3],\n",
       "       ...,\n",
       "       [  0,   0,   0, ..., 183,   1, 184],\n",
       "       [  0,   0,   0, ...,   1, 184, 185],\n",
       "       [  0,   0,   0, ..., 184, 185, 186]])"
      ]
     },
     "execution_count": 30,
     "metadata": {},
     "output_type": "execute_result"
    }
   ],
   "source": [
    "X"
   ]
  },
  {
   "cell_type": "code",
   "execution_count": 31,
   "id": "bc20a43e-613b-4c62-afc5-c734916f253b",
   "metadata": {},
   "outputs": [
    {
     "name": "stdout",
     "output_type": "stream",
     "text": [
      "Epoch 1/100\n",
      "\u001b[1m8/8\u001b[0m \u001b[32m━━━━━━━━━━━━━━━━━━━━\u001b[0m\u001b[37m\u001b[0m \u001b[1m4s\u001b[0m 15ms/step - accuracy: 0.0199 - loss: 5.4763  \n",
      "Epoch 2/100\n",
      "\u001b[1m8/8\u001b[0m \u001b[32m━━━━━━━━━━━━━━━━━━━━\u001b[0m\u001b[37m\u001b[0m \u001b[1m0s\u001b[0m 11ms/step - accuracy: 0.0651 - loss: 5.4314\n",
      "Epoch 3/100\n",
      "\u001b[1m8/8\u001b[0m \u001b[32m━━━━━━━━━━━━━━━━━━━━\u001b[0m\u001b[37m\u001b[0m \u001b[1m0s\u001b[0m 11ms/step - accuracy: 0.0717 - loss: 5.1634\n",
      "Epoch 4/100\n",
      "\u001b[1m8/8\u001b[0m \u001b[32m━━━━━━━━━━━━━━━━━━━━\u001b[0m\u001b[37m\u001b[0m \u001b[1m0s\u001b[0m 12ms/step - accuracy: 0.0411 - loss: 4.9960\n",
      "Epoch 5/100\n",
      "\u001b[1m8/8\u001b[0m \u001b[32m━━━━━━━━━━━━━━━━━━━━\u001b[0m\u001b[37m\u001b[0m \u001b[1m0s\u001b[0m 12ms/step - accuracy: 0.0308 - loss: 4.9986\n",
      "Epoch 6/100\n",
      "\u001b[1m8/8\u001b[0m \u001b[32m━━━━━━━━━━━━━━━━━━━━\u001b[0m\u001b[37m\u001b[0m \u001b[1m0s\u001b[0m 11ms/step - accuracy: 0.0544 - loss: 4.9109\n",
      "Epoch 7/100\n",
      "\u001b[1m8/8\u001b[0m \u001b[32m━━━━━━━━━━━━━━━━━━━━\u001b[0m\u001b[37m\u001b[0m \u001b[1m0s\u001b[0m 11ms/step - accuracy: 0.0432 - loss: 4.8492\n",
      "Epoch 8/100\n",
      "\u001b[1m8/8\u001b[0m \u001b[32m━━━━━━━━━━━━━━━━━━━━\u001b[0m\u001b[37m\u001b[0m \u001b[1m0s\u001b[0m 13ms/step - accuracy: 0.0466 - loss: 4.8575\n",
      "Epoch 9/100\n",
      "\u001b[1m8/8\u001b[0m \u001b[32m━━━━━━━━━━━━━━━━━━━━\u001b[0m\u001b[37m\u001b[0m \u001b[1m0s\u001b[0m 13ms/step - accuracy: 0.0493 - loss: 4.7571\n",
      "Epoch 10/100\n",
      "\u001b[1m8/8\u001b[0m \u001b[32m━━━━━━━━━━━━━━━━━━━━\u001b[0m\u001b[37m\u001b[0m \u001b[1m0s\u001b[0m 12ms/step - accuracy: 0.0602 - loss: 4.6187\n",
      "Epoch 11/100\n",
      "\u001b[1m8/8\u001b[0m \u001b[32m━━━━━━━━━━━━━━━━━━━━\u001b[0m\u001b[37m\u001b[0m \u001b[1m0s\u001b[0m 14ms/step - accuracy: 0.0677 - loss: 4.5729\n",
      "Epoch 12/100\n",
      "\u001b[1m8/8\u001b[0m \u001b[32m━━━━━━━━━━━━━━━━━━━━\u001b[0m\u001b[37m\u001b[0m \u001b[1m0s\u001b[0m 11ms/step - accuracy: 0.0891 - loss: 4.4810\n",
      "Epoch 13/100\n",
      "\u001b[1m8/8\u001b[0m \u001b[32m━━━━━━━━━━━━━━━━━━━━\u001b[0m\u001b[37m\u001b[0m \u001b[1m0s\u001b[0m 11ms/step - accuracy: 0.0808 - loss: 4.3429\n",
      "Epoch 14/100\n",
      "\u001b[1m8/8\u001b[0m \u001b[32m━━━━━━━━━━━━━━━━━━━━\u001b[0m\u001b[37m\u001b[0m \u001b[1m0s\u001b[0m 11ms/step - accuracy: 0.0742 - loss: 4.2758\n",
      "Epoch 15/100\n",
      "\u001b[1m8/8\u001b[0m \u001b[32m━━━━━━━━━━━━━━━━━━━━\u001b[0m\u001b[37m\u001b[0m \u001b[1m0s\u001b[0m 11ms/step - accuracy: 0.0927 - loss: 4.1160\n",
      "Epoch 16/100\n",
      "\u001b[1m8/8\u001b[0m \u001b[32m━━━━━━━━━━━━━━━━━━━━\u001b[0m\u001b[37m\u001b[0m \u001b[1m0s\u001b[0m 11ms/step - accuracy: 0.0985 - loss: 4.1342\n",
      "Epoch 17/100\n",
      "\u001b[1m8/8\u001b[0m \u001b[32m━━━━━━━━━━━━━━━━━━━━\u001b[0m\u001b[37m\u001b[0m \u001b[1m0s\u001b[0m 14ms/step - accuracy: 0.1183 - loss: 4.0472\n",
      "Epoch 18/100\n",
      "\u001b[1m8/8\u001b[0m \u001b[32m━━━━━━━━━━━━━━━━━━━━\u001b[0m\u001b[37m\u001b[0m \u001b[1m0s\u001b[0m 12ms/step - accuracy: 0.1536 - loss: 3.8135\n",
      "Epoch 19/100\n",
      "\u001b[1m8/8\u001b[0m \u001b[32m━━━━━━━━━━━━━━━━━━━━\u001b[0m\u001b[37m\u001b[0m \u001b[1m0s\u001b[0m 11ms/step - accuracy: 0.1509 - loss: 3.7733\n",
      "Epoch 20/100\n",
      "\u001b[1m8/8\u001b[0m \u001b[32m━━━━━━━━━━━━━━━━━━━━\u001b[0m\u001b[37m\u001b[0m \u001b[1m0s\u001b[0m 10ms/step - accuracy: 0.1770 - loss: 3.6244\n",
      "Epoch 21/100\n",
      "\u001b[1m8/8\u001b[0m \u001b[32m━━━━━━━━━━━━━━━━━━━━\u001b[0m\u001b[37m\u001b[0m \u001b[1m0s\u001b[0m 11ms/step - accuracy: 0.1722 - loss: 3.6067\n",
      "Epoch 22/100\n",
      "\u001b[1m8/8\u001b[0m \u001b[32m━━━━━━━━━━━━━━━━━━━━\u001b[0m\u001b[37m\u001b[0m \u001b[1m0s\u001b[0m 11ms/step - accuracy: 0.1886 - loss: 3.4393\n",
      "Epoch 23/100\n",
      "\u001b[1m8/8\u001b[0m \u001b[32m━━━━━━━━━━━━━━━━━━━━\u001b[0m\u001b[37m\u001b[0m \u001b[1m0s\u001b[0m 11ms/step - accuracy: 0.2105 - loss: 3.3845\n",
      "Epoch 24/100\n",
      "\u001b[1m8/8\u001b[0m \u001b[32m━━━━━━━━━━━━━━━━━━━━\u001b[0m\u001b[37m\u001b[0m \u001b[1m0s\u001b[0m 11ms/step - accuracy: 0.2633 - loss: 3.2529\n",
      "Epoch 25/100\n",
      "\u001b[1m8/8\u001b[0m \u001b[32m━━━━━━━━━━━━━━━━━━━━\u001b[0m\u001b[37m\u001b[0m \u001b[1m0s\u001b[0m 10ms/step - accuracy: 0.2710 - loss: 3.1059\n",
      "Epoch 26/100\n",
      "\u001b[1m8/8\u001b[0m \u001b[32m━━━━━━━━━━━━━━━━━━━━\u001b[0m\u001b[37m\u001b[0m \u001b[1m0s\u001b[0m 11ms/step - accuracy: 0.3508 - loss: 2.9299\n",
      "Epoch 27/100\n",
      "\u001b[1m8/8\u001b[0m \u001b[32m━━━━━━━━━━━━━━━━━━━━\u001b[0m\u001b[37m\u001b[0m \u001b[1m0s\u001b[0m 12ms/step - accuracy: 0.3220 - loss: 2.9321\n",
      "Epoch 28/100\n",
      "\u001b[1m8/8\u001b[0m \u001b[32m━━━━━━━━━━━━━━━━━━━━\u001b[0m\u001b[37m\u001b[0m \u001b[1m0s\u001b[0m 12ms/step - accuracy: 0.3895 - loss: 2.7765\n",
      "Epoch 29/100\n",
      "\u001b[1m8/8\u001b[0m \u001b[32m━━━━━━━━━━━━━━━━━━━━\u001b[0m\u001b[37m\u001b[0m \u001b[1m0s\u001b[0m 10ms/step - accuracy: 0.4003 - loss: 2.5984\n",
      "Epoch 30/100\n",
      "\u001b[1m8/8\u001b[0m \u001b[32m━━━━━━━━━━━━━━━━━━━━\u001b[0m\u001b[37m\u001b[0m \u001b[1m0s\u001b[0m 10ms/step - accuracy: 0.4747 - loss: 2.5067\n",
      "Epoch 31/100\n",
      "\u001b[1m8/8\u001b[0m \u001b[32m━━━━━━━━━━━━━━━━━━━━\u001b[0m\u001b[37m\u001b[0m \u001b[1m0s\u001b[0m 11ms/step - accuracy: 0.5061 - loss: 2.3832\n",
      "Epoch 32/100\n",
      "\u001b[1m8/8\u001b[0m \u001b[32m━━━━━━━━━━━━━━━━━━━━\u001b[0m\u001b[37m\u001b[0m \u001b[1m0s\u001b[0m 12ms/step - accuracy: 0.5796 - loss: 2.2457\n",
      "Epoch 33/100\n",
      "\u001b[1m8/8\u001b[0m \u001b[32m━━━━━━━━━━━━━━━━━━━━\u001b[0m\u001b[37m\u001b[0m \u001b[1m0s\u001b[0m 11ms/step - accuracy: 0.6176 - loss: 2.1730\n",
      "Epoch 34/100\n",
      "\u001b[1m8/8\u001b[0m \u001b[32m━━━━━━━━━━━━━━━━━━━━\u001b[0m\u001b[37m\u001b[0m \u001b[1m0s\u001b[0m 11ms/step - accuracy: 0.6452 - loss: 2.1069\n",
      "Epoch 35/100\n",
      "\u001b[1m8/8\u001b[0m \u001b[32m━━━━━━━━━━━━━━━━━━━━\u001b[0m\u001b[37m\u001b[0m \u001b[1m0s\u001b[0m 11ms/step - accuracy: 0.6543 - loss: 2.0855\n",
      "Epoch 36/100\n",
      "\u001b[1m8/8\u001b[0m \u001b[32m━━━━━━━━━━━━━━━━━━━━\u001b[0m\u001b[37m\u001b[0m \u001b[1m0s\u001b[0m 11ms/step - accuracy: 0.6865 - loss: 1.9138\n",
      "Epoch 37/100\n",
      "\u001b[1m8/8\u001b[0m \u001b[32m━━━━━━━━━━━━━━━━━━━━\u001b[0m\u001b[37m\u001b[0m \u001b[1m0s\u001b[0m 11ms/step - accuracy: 0.7143 - loss: 1.8139\n",
      "Epoch 38/100\n",
      "\u001b[1m8/8\u001b[0m \u001b[32m━━━━━━━━━━━━━━━━━━━━\u001b[0m\u001b[37m\u001b[0m \u001b[1m0s\u001b[0m 11ms/step - accuracy: 0.7111 - loss: 1.7685\n",
      "Epoch 39/100\n",
      "\u001b[1m8/8\u001b[0m \u001b[32m━━━━━━━━━━━━━━━━━━━━\u001b[0m\u001b[37m\u001b[0m \u001b[1m0s\u001b[0m 11ms/step - accuracy: 0.7330 - loss: 1.6931\n",
      "Epoch 40/100\n",
      "\u001b[1m8/8\u001b[0m \u001b[32m━━━━━━━━━━━━━━━━━━━━\u001b[0m\u001b[37m\u001b[0m \u001b[1m0s\u001b[0m 11ms/step - accuracy: 0.7738 - loss: 1.6401\n",
      "Epoch 41/100\n",
      "\u001b[1m8/8\u001b[0m \u001b[32m━━━━━━━━━━━━━━━━━━━━\u001b[0m\u001b[37m\u001b[0m \u001b[1m0s\u001b[0m 11ms/step - accuracy: 0.7857 - loss: 1.5382\n",
      "Epoch 42/100\n",
      "\u001b[1m8/8\u001b[0m \u001b[32m━━━━━━━━━━━━━━━━━━━━\u001b[0m\u001b[37m\u001b[0m \u001b[1m0s\u001b[0m 12ms/step - accuracy: 0.8371 - loss: 1.4416\n",
      "Epoch 43/100\n",
      "\u001b[1m8/8\u001b[0m \u001b[32m━━━━━━━━━━━━━━━━━━━━\u001b[0m\u001b[37m\u001b[0m \u001b[1m0s\u001b[0m 12ms/step - accuracy: 0.8242 - loss: 1.3805\n",
      "Epoch 44/100\n",
      "\u001b[1m8/8\u001b[0m \u001b[32m━━━━━━━━━━━━━━━━━━━━\u001b[0m\u001b[37m\u001b[0m \u001b[1m0s\u001b[0m 13ms/step - accuracy: 0.8554 - loss: 1.3097\n",
      "Epoch 45/100\n",
      "\u001b[1m8/8\u001b[0m \u001b[32m━━━━━━━━━━━━━━━━━━━━\u001b[0m\u001b[37m\u001b[0m \u001b[1m0s\u001b[0m 11ms/step - accuracy: 0.8570 - loss: 1.2112\n",
      "Epoch 46/100\n",
      "\u001b[1m8/8\u001b[0m \u001b[32m━━━━━━━━━━━━━━━━━━━━\u001b[0m\u001b[37m\u001b[0m \u001b[1m0s\u001b[0m 12ms/step - accuracy: 0.8986 - loss: 1.2157\n",
      "Epoch 47/100\n",
      "\u001b[1m8/8\u001b[0m \u001b[32m━━━━━━━━━━━━━━━━━━━━\u001b[0m\u001b[37m\u001b[0m \u001b[1m0s\u001b[0m 15ms/step - accuracy: 0.8819 - loss: 1.1174\n",
      "Epoch 48/100\n",
      "\u001b[1m8/8\u001b[0m \u001b[32m━━━━━━━━━━━━━━━━━━━━\u001b[0m\u001b[37m\u001b[0m \u001b[1m0s\u001b[0m 11ms/step - accuracy: 0.9204 - loss: 1.0779\n",
      "Epoch 49/100\n",
      "\u001b[1m8/8\u001b[0m \u001b[32m━━━━━━━━━━━━━━━━━━━━\u001b[0m\u001b[37m\u001b[0m \u001b[1m0s\u001b[0m 11ms/step - accuracy: 0.9004 - loss: 1.0691\n",
      "Epoch 50/100\n",
      "\u001b[1m8/8\u001b[0m \u001b[32m━━━━━━━━━━━━━━━━━━━━\u001b[0m\u001b[37m\u001b[0m \u001b[1m0s\u001b[0m 11ms/step - accuracy: 0.9099 - loss: 0.9994\n",
      "Epoch 51/100\n",
      "\u001b[1m8/8\u001b[0m \u001b[32m━━━━━━━━━━━━━━━━━━━━\u001b[0m\u001b[37m\u001b[0m \u001b[1m0s\u001b[0m 13ms/step - accuracy: 0.9251 - loss: 0.9622\n",
      "Epoch 52/100\n",
      "\u001b[1m8/8\u001b[0m \u001b[32m━━━━━━━━━━━━━━━━━━━━\u001b[0m\u001b[37m\u001b[0m \u001b[1m0s\u001b[0m 15ms/step - accuracy: 0.9582 - loss: 0.8449\n",
      "Epoch 53/100\n",
      "\u001b[1m8/8\u001b[0m \u001b[32m━━━━━━━━━━━━━━━━━━━━\u001b[0m\u001b[37m\u001b[0m \u001b[1m0s\u001b[0m 11ms/step - accuracy: 0.9279 - loss: 0.8801\n",
      "Epoch 54/100\n",
      "\u001b[1m8/8\u001b[0m \u001b[32m━━━━━━━━━━━━━━━━━━━━\u001b[0m\u001b[37m\u001b[0m \u001b[1m0s\u001b[0m 11ms/step - accuracy: 0.9340 - loss: 0.8474\n",
      "Epoch 55/100\n",
      "\u001b[1m8/8\u001b[0m \u001b[32m━━━━━━━━━━━━━━━━━━━━\u001b[0m\u001b[37m\u001b[0m \u001b[1m0s\u001b[0m 11ms/step - accuracy: 0.9480 - loss: 0.7202\n",
      "Epoch 56/100\n",
      "\u001b[1m8/8\u001b[0m \u001b[32m━━━━━━━━━━━━━━━━━━━━\u001b[0m\u001b[37m\u001b[0m \u001b[1m0s\u001b[0m 10ms/step - accuracy: 0.9498 - loss: 0.7194\n",
      "Epoch 57/100\n",
      "\u001b[1m8/8\u001b[0m \u001b[32m━━━━━━━━━━━━━━━━━━━━\u001b[0m\u001b[37m\u001b[0m \u001b[1m0s\u001b[0m 15ms/step - accuracy: 0.9744 - loss: 0.6742\n",
      "Epoch 58/100\n",
      "\u001b[1m8/8\u001b[0m \u001b[32m━━━━━━━━━━━━━━━━━━━━\u001b[0m\u001b[37m\u001b[0m \u001b[1m0s\u001b[0m 14ms/step - accuracy: 0.9802 - loss: 0.6530\n",
      "Epoch 59/100\n",
      "\u001b[1m8/8\u001b[0m \u001b[32m━━━━━━━━━━━━━━━━━━━━\u001b[0m\u001b[37m\u001b[0m \u001b[1m0s\u001b[0m 11ms/step - accuracy: 0.9784 - loss: 0.6188\n",
      "Epoch 60/100\n",
      "\u001b[1m8/8\u001b[0m \u001b[32m━━━━━━━━━━━━━━━━━━━━\u001b[0m\u001b[37m\u001b[0m \u001b[1m0s\u001b[0m 11ms/step - accuracy: 0.9636 - loss: 0.6207\n",
      "Epoch 61/100\n",
      "\u001b[1m8/8\u001b[0m \u001b[32m━━━━━━━━━━━━━━━━━━━━\u001b[0m\u001b[37m\u001b[0m \u001b[1m0s\u001b[0m 11ms/step - accuracy: 0.9671 - loss: 0.5935\n",
      "Epoch 62/100\n",
      "\u001b[1m8/8\u001b[0m \u001b[32m━━━━━━━━━━━━━━━━━━━━\u001b[0m\u001b[37m\u001b[0m \u001b[1m0s\u001b[0m 11ms/step - accuracy: 0.9607 - loss: 0.5720\n",
      "Epoch 63/100\n",
      "\u001b[1m8/8\u001b[0m \u001b[32m━━━━━━━━━━━━━━━━━━━━\u001b[0m\u001b[37m\u001b[0m \u001b[1m0s\u001b[0m 11ms/step - accuracy: 0.9670 - loss: 0.5527\n",
      "Epoch 64/100\n",
      "\u001b[1m8/8\u001b[0m \u001b[32m━━━━━━━━━━━━━━━━━━━━\u001b[0m\u001b[37m\u001b[0m \u001b[1m0s\u001b[0m 11ms/step - accuracy: 0.9755 - loss: 0.5070\n",
      "Epoch 65/100\n",
      "\u001b[1m8/8\u001b[0m \u001b[32m━━━━━━━━━━━━━━━━━━━━\u001b[0m\u001b[37m\u001b[0m \u001b[1m0s\u001b[0m 11ms/step - accuracy: 0.9738 - loss: 0.4723\n",
      "Epoch 66/100\n",
      "\u001b[1m8/8\u001b[0m \u001b[32m━━━━━━━━━━━━━━━━━━━━\u001b[0m\u001b[37m\u001b[0m \u001b[1m0s\u001b[0m 10ms/step - accuracy: 0.9787 - loss: 0.4749\n",
      "Epoch 67/100\n",
      "\u001b[1m8/8\u001b[0m \u001b[32m━━━━━━━━━━━━━━━━━━━━\u001b[0m\u001b[37m\u001b[0m \u001b[1m0s\u001b[0m 12ms/step - accuracy: 0.9655 - loss: 0.4510\n",
      "Epoch 68/100\n",
      "\u001b[1m8/8\u001b[0m \u001b[32m━━━━━━━━━━━━━━━━━━━━\u001b[0m\u001b[37m\u001b[0m \u001b[1m0s\u001b[0m 12ms/step - accuracy: 0.9651 - loss: 0.4452\n",
      "Epoch 69/100\n",
      "\u001b[1m8/8\u001b[0m \u001b[32m━━━━━━━━━━━━━━━━━━━━\u001b[0m\u001b[37m\u001b[0m \u001b[1m0s\u001b[0m 11ms/step - accuracy: 0.9774 - loss: 0.4321\n",
      "Epoch 70/100\n",
      "\u001b[1m8/8\u001b[0m \u001b[32m━━━━━━━━━━━━━━━━━━━━\u001b[0m\u001b[37m\u001b[0m \u001b[1m0s\u001b[0m 11ms/step - accuracy: 0.9830 - loss: 0.4141\n",
      "Epoch 71/100\n",
      "\u001b[1m8/8\u001b[0m \u001b[32m━━━━━━━━━━━━━━━━━━━━\u001b[0m\u001b[37m\u001b[0m \u001b[1m0s\u001b[0m 10ms/step - accuracy: 0.9806 - loss: 0.3625\n",
      "Epoch 72/100\n",
      "\u001b[1m8/8\u001b[0m \u001b[32m━━━━━━━━━━━━━━━━━━━━\u001b[0m\u001b[37m\u001b[0m \u001b[1m0s\u001b[0m 12ms/step - accuracy: 0.9756 - loss: 0.3642\n",
      "Epoch 73/100\n",
      "\u001b[1m8/8\u001b[0m \u001b[32m━━━━━━━━━━━━━━━━━━━━\u001b[0m\u001b[37m\u001b[0m \u001b[1m0s\u001b[0m 12ms/step - accuracy: 0.9844 - loss: 0.3231\n",
      "Epoch 74/100\n",
      "\u001b[1m8/8\u001b[0m \u001b[32m━━━━━━━━━━━━━━━━━━━━\u001b[0m\u001b[37m\u001b[0m \u001b[1m0s\u001b[0m 11ms/step - accuracy: 0.9722 - loss: 0.3471\n",
      "Epoch 75/100\n",
      "\u001b[1m8/8\u001b[0m \u001b[32m━━━━━━━━━━━━━━━━━━━━\u001b[0m\u001b[37m\u001b[0m \u001b[1m0s\u001b[0m 15ms/step - accuracy: 0.9790 - loss: 0.3032\n",
      "Epoch 76/100\n",
      "\u001b[1m8/8\u001b[0m \u001b[32m━━━━━━━━━━━━━━━━━━━━\u001b[0m\u001b[37m\u001b[0m \u001b[1m0s\u001b[0m 11ms/step - accuracy: 0.9738 - loss: 0.3131\n",
      "Epoch 77/100\n",
      "\u001b[1m8/8\u001b[0m \u001b[32m━━━━━━━━━━━━━━━━━━━━\u001b[0m\u001b[37m\u001b[0m \u001b[1m0s\u001b[0m 11ms/step - accuracy: 0.9719 - loss: 0.2901\n",
      "Epoch 78/100\n",
      "\u001b[1m8/8\u001b[0m \u001b[32m━━━━━━━━━━━━━━━━━━━━\u001b[0m\u001b[37m\u001b[0m \u001b[1m0s\u001b[0m 12ms/step - accuracy: 0.9731 - loss: 0.2656\n",
      "Epoch 79/100\n",
      "\u001b[1m8/8\u001b[0m \u001b[32m━━━━━━━━━━━━━━━━━━━━\u001b[0m\u001b[37m\u001b[0m \u001b[1m0s\u001b[0m 12ms/step - accuracy: 0.9559 - loss: 0.2861\n",
      "Epoch 80/100\n",
      "\u001b[1m8/8\u001b[0m \u001b[32m━━━━━━━━━━━━━━━━━━━━\u001b[0m\u001b[37m\u001b[0m \u001b[1m0s\u001b[0m 18ms/step - accuracy: 0.9741 - loss: 0.2647\n",
      "Epoch 81/100\n",
      "\u001b[1m8/8\u001b[0m \u001b[32m━━━━━━━━━━━━━━━━━━━━\u001b[0m\u001b[37m\u001b[0m \u001b[1m0s\u001b[0m 13ms/step - accuracy: 0.9728 - loss: 0.2759\n",
      "Epoch 82/100\n",
      "\u001b[1m8/8\u001b[0m \u001b[32m━━━━━━━━━━━━━━━━━━━━\u001b[0m\u001b[37m\u001b[0m \u001b[1m0s\u001b[0m 11ms/step - accuracy: 0.9756 - loss: 0.2380\n",
      "Epoch 83/100\n",
      "\u001b[1m8/8\u001b[0m \u001b[32m━━━━━━━━━━━━━━━━━━━━\u001b[0m\u001b[37m\u001b[0m \u001b[1m0s\u001b[0m 10ms/step - accuracy: 0.9694 - loss: 0.2453\n",
      "Epoch 84/100\n",
      "\u001b[1m8/8\u001b[0m \u001b[32m━━━━━━━━━━━━━━━━━━━━\u001b[0m\u001b[37m\u001b[0m \u001b[1m0s\u001b[0m 12ms/step - accuracy: 0.9744 - loss: 0.2236\n",
      "Epoch 85/100\n",
      "\u001b[1m8/8\u001b[0m \u001b[32m━━━━━━━━━━━━━━━━━━━━\u001b[0m\u001b[37m\u001b[0m \u001b[1m0s\u001b[0m 12ms/step - accuracy: 0.9742 - loss: 0.2069\n",
      "Epoch 86/100\n",
      "\u001b[1m8/8\u001b[0m \u001b[32m━━━━━━━━━━━━━━━━━━━━\u001b[0m\u001b[37m\u001b[0m \u001b[1m0s\u001b[0m 12ms/step - accuracy: 0.9718 - loss: 0.2303\n",
      "Epoch 87/100\n",
      "\u001b[1m8/8\u001b[0m \u001b[32m━━━━━━━━━━━━━━━━━━━━\u001b[0m\u001b[37m\u001b[0m \u001b[1m0s\u001b[0m 12ms/step - accuracy: 0.9811 - loss: 0.2188\n",
      "Epoch 88/100\n",
      "\u001b[1m8/8\u001b[0m \u001b[32m━━━━━━━━━━━━━━━━━━━━\u001b[0m\u001b[37m\u001b[0m \u001b[1m0s\u001b[0m 12ms/step - accuracy: 0.9767 - loss: 0.1947\n",
      "Epoch 89/100\n",
      "\u001b[1m8/8\u001b[0m \u001b[32m━━━━━━━━━━━━━━━━━━━━\u001b[0m\u001b[37m\u001b[0m \u001b[1m0s\u001b[0m 12ms/step - accuracy: 0.9701 - loss: 0.1968\n",
      "Epoch 90/100\n",
      "\u001b[1m8/8\u001b[0m \u001b[32m━━━━━━━━━━━━━━━━━━━━\u001b[0m\u001b[37m\u001b[0m \u001b[1m0s\u001b[0m 11ms/step - accuracy: 0.9810 - loss: 0.1797\n",
      "Epoch 91/100\n",
      "\u001b[1m8/8\u001b[0m \u001b[32m━━━━━━━━━━━━━━━━━━━━\u001b[0m\u001b[37m\u001b[0m \u001b[1m0s\u001b[0m 12ms/step - accuracy: 0.9769 - loss: 0.1792\n",
      "Epoch 92/100\n",
      "\u001b[1m8/8\u001b[0m \u001b[32m━━━━━━━━━━━━━━━━━━━━\u001b[0m\u001b[37m\u001b[0m \u001b[1m0s\u001b[0m 11ms/step - accuracy: 0.9851 - loss: 0.1684\n",
      "Epoch 93/100\n",
      "\u001b[1m8/8\u001b[0m \u001b[32m━━━━━━━━━━━━━━━━━━━━\u001b[0m\u001b[37m\u001b[0m \u001b[1m0s\u001b[0m 10ms/step - accuracy: 0.9794 - loss: 0.1674\n",
      "Epoch 94/100\n",
      "\u001b[1m8/8\u001b[0m \u001b[32m━━━━━━━━━━━━━━━━━━━━\u001b[0m\u001b[37m\u001b[0m \u001b[1m0s\u001b[0m 11ms/step - accuracy: 0.9769 - loss: 0.1540\n",
      "Epoch 95/100\n",
      "\u001b[1m8/8\u001b[0m \u001b[32m━━━━━━━━━━━━━━━━━━━━\u001b[0m\u001b[37m\u001b[0m \u001b[1m0s\u001b[0m 11ms/step - accuracy: 0.9717 - loss: 0.1707\n",
      "Epoch 96/100\n",
      "\u001b[1m8/8\u001b[0m \u001b[32m━━━━━━━━━━━━━━━━━━━━\u001b[0m\u001b[37m\u001b[0m \u001b[1m0s\u001b[0m 11ms/step - accuracy: 0.9759 - loss: 0.1627\n",
      "Epoch 97/100\n",
      "\u001b[1m8/8\u001b[0m \u001b[32m━━━━━━━━━━━━━━━━━━━━\u001b[0m\u001b[37m\u001b[0m \u001b[1m0s\u001b[0m 12ms/step - accuracy: 0.9874 - loss: 0.1509\n",
      "Epoch 98/100\n",
      "\u001b[1m8/8\u001b[0m \u001b[32m━━━━━━━━━━━━━━━━━━━━\u001b[0m\u001b[37m\u001b[0m \u001b[1m0s\u001b[0m 14ms/step - accuracy: 0.9909 - loss: 0.1468\n",
      "Epoch 99/100\n",
      "\u001b[1m8/8\u001b[0m \u001b[32m━━━━━━━━━━━━━━━━━━━━\u001b[0m\u001b[37m\u001b[0m \u001b[1m0s\u001b[0m 12ms/step - accuracy: 0.9731 - loss: 0.1485\n",
      "Epoch 100/100\n",
      "\u001b[1m8/8\u001b[0m \u001b[32m━━━━━━━━━━━━━━━━━━━━\u001b[0m\u001b[37m\u001b[0m \u001b[1m0s\u001b[0m 11ms/step - accuracy: 0.9853 - loss: 0.1323\n"
     ]
    },
    {
     "data": {
      "text/plain": [
       "<keras.src.callbacks.history.History at 0x299f2f4fce0>"
      ]
     },
     "execution_count": 31,
     "metadata": {},
     "output_type": "execute_result"
    }
   ],
   "source": [
    "model.fit(X,y, epochs=100)"
   ]
  },
  {
   "cell_type": "code",
   "execution_count": 32,
   "id": "c1141978-baa7-4788-a34b-5b6bb4228544",
   "metadata": {},
   "outputs": [],
   "source": [
    "import numpy as np"
   ]
  },
  {
   "cell_type": "code",
   "execution_count": 33,
   "id": "e5ce78eb-a521-4412-b154-8665369669a2",
   "metadata": {},
   "outputs": [],
   "source": [
    "test = \"Saurav\""
   ]
  },
  {
   "cell_type": "code",
   "execution_count": 34,
   "id": "9c95e957-b86c-4c93-8724-61952d3ea142",
   "metadata": {},
   "outputs": [
    {
     "name": "stdout",
     "output_type": "stream",
     "text": [
      "[[ 0  0  0  0  0  0  0  0  0  0  0  0  0 51]]\n"
     ]
    }
   ],
   "source": [
    "token_text = tokenizer.texts_to_sequences([test])[0]\n",
    "#padding\n",
    "padded_token_text = pad_sequences([token_text], maxlen=14, padding='pre')\n",
    "#predict\n",
    "print(padded_token_text)"
   ]
  },
  {
   "cell_type": "code",
   "execution_count": 35,
   "id": "930578c4-86e0-46e7-968d-9c8c7a0107f4",
   "metadata": {
    "scrolled": true
   },
   "outputs": [
    {
     "name": "stdout",
     "output_type": "stream",
     "text": [
      "\u001b[1m1/1\u001b[0m \u001b[32m━━━━━━━━━━━━━━━━━━━━\u001b[0m\u001b[37m\u001b[0m \u001b[1m0s\u001b[0m 248ms/step\n"
     ]
    },
    {
     "data": {
      "text/plain": [
       "array([[9.89648811e-07, 4.20360098e-04, 1.49908680e-02, 4.37556719e-03,\n",
       "        2.36750304e-04, 7.40033155e-03, 3.44822661e-06, 2.60779052e-04,\n",
       "        6.09029630e-05, 1.19850574e-06, 2.09794077e-03, 6.59279103e-05,\n",
       "        1.95323024e-04, 3.71080096e-04, 4.97024339e-05, 5.56121860e-03,\n",
       "        4.79056034e-05, 4.39695228e-04, 1.20390987e-05, 4.31506254e-04,\n",
       "        5.78681011e-06, 3.82058133e-05, 9.88351894e-05, 2.41155317e-03,\n",
       "        2.30698442e-05, 2.06000230e-04, 2.08412021e-04, 1.61556982e-05,\n",
       "        2.42782480e-04, 4.58699325e-03, 1.71159772e-04, 8.93491844e-04,\n",
       "        6.47941561e-05, 2.34036161e-05, 3.89947393e-03, 1.65094598e-03,\n",
       "        7.27685750e-04, 1.67115635e-04, 5.35324398e-05, 6.18837366e-04,\n",
       "        1.35280630e-02, 2.46602134e-03, 1.91286555e-03, 2.59830826e-03,\n",
       "        5.01884380e-04, 1.02457672e-03, 2.04051903e-05, 4.27894149e-04,\n",
       "        6.12251824e-07, 8.16191732e-06, 1.21410121e-03, 4.42045689e-07,\n",
       "        8.24904084e-01, 1.19103004e-06, 4.65773046e-04, 1.17084273e-04,\n",
       "        2.31878730e-05, 5.78190611e-06, 3.24427441e-04, 1.09160559e-04,\n",
       "        4.10969587e-05, 7.59757040e-06, 1.60471645e-05, 3.55715542e-06,\n",
       "        2.35702100e-06, 4.07935147e-07, 4.68971994e-05, 5.87230807e-06,\n",
       "        4.19778280e-06, 1.18138166e-06, 1.50969345e-06, 2.17941670e-05,\n",
       "        4.50323660e-06, 9.54037478e-06, 1.22664951e-05, 3.49747461e-06,\n",
       "        9.46180717e-06, 5.00430497e-06, 2.74884337e-06, 2.92458339e-04,\n",
       "        2.06948444e-05, 1.97449190e-05, 2.66348440e-02, 2.19859658e-06,\n",
       "        1.14136057e-07, 5.20329877e-07, 3.67943830e-05, 2.62849753e-05,\n",
       "        4.20345941e-06, 1.63714924e-06, 8.41671977e-07, 9.08083923e-04,\n",
       "        9.49791911e-07, 1.43774524e-02, 2.09171791e-03, 2.33365972e-05,\n",
       "        2.89424934e-05, 4.57490896e-05, 2.05230881e-05, 6.89870205e-07,\n",
       "        2.85002927e-04, 6.04266461e-05, 7.73484680e-06, 5.64110496e-06,\n",
       "        1.47216544e-02, 2.89978366e-03, 1.28375596e-05, 2.82436395e-05,\n",
       "        6.46847138e-06, 2.69199063e-05, 2.94516894e-06, 2.53137671e-07,\n",
       "        7.25500229e-07, 3.73538205e-05, 8.24881590e-06, 1.82456483e-06,\n",
       "        6.91606721e-04, 5.43472488e-05, 2.87400835e-05, 3.26885879e-06,\n",
       "        8.79553590e-06, 7.99804639e-06, 3.79077824e-06, 1.11648615e-05,\n",
       "        1.89332502e-06, 8.69139711e-08, 1.36569375e-03, 4.49270330e-04,\n",
       "        5.54125199e-06, 5.77683863e-07, 3.76700598e-04, 5.08515004e-05,\n",
       "        4.82633550e-06, 2.23810730e-05, 1.05866384e-05, 1.40919601e-05,\n",
       "        1.61948992e-06, 1.17634386e-06, 7.29867781e-04, 2.75403236e-05,\n",
       "        8.41864676e-05, 2.83994304e-05, 8.12092480e-07, 2.43947798e-04,\n",
       "        1.78263308e-05, 3.53104929e-06, 1.40126838e-06, 2.50794210e-06,\n",
       "        2.67038286e-06, 1.02938907e-06, 2.59470056e-07, 1.10439352e-07,\n",
       "        2.37902720e-03, 1.12198973e-02, 1.77455993e-04, 3.18613660e-04,\n",
       "        4.93490952e-05, 2.92330424e-05, 5.63437061e-05, 9.13931274e-07,\n",
       "        1.39050690e-06, 2.60526984e-04, 1.72889384e-06, 4.40727948e-04,\n",
       "        1.50893073e-04, 7.58144160e-05, 4.62638069e-04, 1.29833556e-04,\n",
       "        2.89038266e-03, 2.25999656e-06, 2.90408002e-06, 4.58682701e-03,\n",
       "        9.37307777e-05, 3.06340257e-06, 6.10382995e-06, 6.43745903e-03,\n",
       "        8.86619364e-06, 1.46827585e-06, 1.06915295e-05, 2.48154538e-06,\n",
       "        3.71946862e-06, 6.55801568e-06, 1.43909710e-06, 3.38901737e-05,\n",
       "        1.41671362e-05, 1.41031178e-05, 1.13149013e-04, 7.11930625e-05,\n",
       "        1.01507896e-06, 1.21038488e-06, 7.90832303e-07, 1.31586273e-06,\n",
       "        1.08282779e-06, 8.10910763e-07, 5.04411958e-07, 1.26489783e-06,\n",
       "        8.66010964e-07, 4.57611321e-07, 8.01887666e-07, 7.57729197e-07,\n",
       "        5.08567382e-07, 1.39159999e-06, 2.43678551e-06, 2.40244776e-06,\n",
       "        9.09146593e-07, 9.02231534e-07, 9.33364959e-07, 1.16058072e-06,\n",
       "        9.52801145e-07, 6.82495283e-07, 8.32640922e-07, 7.01878491e-07,\n",
       "        1.37788970e-06, 9.72996418e-07, 1.33034439e-06, 7.96593383e-07,\n",
       "        2.10788698e-06, 1.06866332e-06, 9.17580110e-07, 1.21737583e-06,\n",
       "        9.92377295e-07, 2.00270051e-06, 9.95266078e-07, 7.43749752e-07,\n",
       "        5.24675556e-07, 8.81116250e-07, 2.11779252e-06, 6.64812319e-07,\n",
       "        6.26626218e-07, 9.82827032e-07, 8.19225590e-07, 5.26928545e-07,\n",
       "        9.49514686e-07, 7.63836738e-07, 7.89140984e-07, 9.85302677e-07,\n",
       "        8.45766749e-07, 1.37701352e-06, 1.08825975e-06]], dtype=float32)"
      ]
     },
     "execution_count": 35,
     "metadata": {},
     "output_type": "execute_result"
    }
   ],
   "source": [
    "predict = model.predict(padded_token_text)\n",
    "predict"
   ]
  },
  {
   "cell_type": "code",
   "execution_count": 36,
   "id": "78a8d5bf-3a3a-4e90-9b87-2cc6267c38d0",
   "metadata": {},
   "outputs": [
    {
     "data": {
      "text/plain": [
       "(1, 239)"
      ]
     },
     "execution_count": 36,
     "metadata": {},
     "output_type": "execute_result"
    }
   ],
   "source": [
    "predict.shape"
   ]
  },
  {
   "cell_type": "code",
   "execution_count": 37,
   "id": "ce6e5a8a-0616-4efd-a54f-c05f25c1c052",
   "metadata": {},
   "outputs": [
    {
     "name": "stdout",
     "output_type": "stream",
     "text": [
      "52\n"
     ]
    }
   ],
   "source": [
    "pos = np.argmax(predict)\n",
    "print(pos)"
   ]
  },
  {
   "cell_type": "code",
   "execution_count": 38,
   "id": "4e670ed5-f079-42e0-a5ee-d4e6001a5ef3",
   "metadata": {},
   "outputs": [
    {
     "name": "stdout",
     "output_type": "stream",
     "text": [
      "kapadiya\n"
     ]
    }
   ],
   "source": [
    "for word , index in tokenizer.word_index.items():\n",
    "    if(index==pos):\n",
    "        print(word)"
   ]
  },
  {
   "cell_type": "code",
   "execution_count": 39,
   "id": "d0e1f6f1-327d-4010-833e-e9aa8d7c0f6a",
   "metadata": {},
   "outputs": [],
   "source": [
    "test2 = \"Developed and deployed live products utilizing\""
   ]
  },
  {
   "cell_type": "code",
   "execution_count": 40,
   "id": "3cf1dba0-a90e-497e-a5a5-26818a55d169",
   "metadata": {},
   "outputs": [
    {
     "name": "stdout",
     "output_type": "stream",
     "text": [
      "[[ 0  0  0  0  0  0  0  0  9  1 58 59 60 61]]\n"
     ]
    }
   ],
   "source": [
    "token_text = tokenizer.texts_to_sequences([test2])[0]\n",
    "#padding\n",
    "padded_token_text = pad_sequences([token_text], maxlen=14, padding='pre')\n",
    "#predict\n",
    "print(padded_token_text)"
   ]
  },
  {
   "cell_type": "code",
   "execution_count": 41,
   "id": "d5bf2568-8821-4eca-aef1-1c9cc5c99b08",
   "metadata": {
    "scrolled": true
   },
   "outputs": [
    {
     "name": "stdout",
     "output_type": "stream",
     "text": [
      "\u001b[1m1/1\u001b[0m \u001b[32m━━━━━━━━━━━━━━━━━━━━\u001b[0m\u001b[37m\u001b[0m \u001b[1m0s\u001b[0m 26ms/step\n"
     ]
    },
    {
     "data": {
      "text/plain": [
       "array([[5.73326773e-08, 8.78658146e-04, 1.36972609e-04, 1.95722729e-02,\n",
       "        5.13429331e-05, 1.55405432e-05, 9.76961965e-05, 2.08082306e-03,\n",
       "        1.02932994e-04, 5.13554426e-08, 2.00730824e-06, 1.93919072e-06,\n",
       "        5.41210684e-05, 3.31329502e-04, 4.90283037e-06, 5.95810940e-04,\n",
       "        4.99790622e-05, 6.45624084e-07, 5.58067113e-04, 6.68326084e-06,\n",
       "        9.37577784e-01, 4.23001969e-04, 2.63556576e-05, 8.72777528e-05,\n",
       "        5.96171185e-06, 1.40790644e-05, 2.37815766e-05, 2.70414457e-04,\n",
       "        1.46035643e-04, 7.98317797e-06, 3.01315436e-06, 2.19393405e-06,\n",
       "        1.62877313e-05, 1.02720480e-06, 8.54486552e-06, 1.62149663e-05,\n",
       "        5.42666430e-06, 9.38349240e-06, 2.39378210e-06, 1.96198948e-06,\n",
       "        4.64162440e-07, 1.38916207e-07, 2.25653657e-05, 8.11560603e-05,\n",
       "        5.51656740e-07, 2.71650624e-05, 2.74957740e-04, 1.12366171e-04,\n",
       "        7.09984320e-08, 3.70483904e-05, 4.41800603e-06, 1.66357694e-07,\n",
       "        7.62739660e-07, 1.91375378e-07, 5.56422674e-05, 1.82004733e-05,\n",
       "        4.42142664e-05, 4.33826615e-04, 5.68027554e-06, 5.19761452e-05,\n",
       "        9.74050083e-04, 2.40947790e-02, 2.62240908e-04, 1.75451123e-06,\n",
       "        4.45972823e-08, 4.63806451e-08, 8.06495700e-06, 5.75198465e-05,\n",
       "        5.89977426e-04, 1.92510640e-07, 1.39503811e-07, 1.27763246e-06,\n",
       "        2.96938333e-06, 1.68454681e-05, 1.60751151e-05, 6.43542023e-07,\n",
       "        4.38200487e-07, 2.84675571e-06, 2.16513698e-07, 4.55887084e-06,\n",
       "        2.51262554e-05, 2.10486269e-05, 4.65138919e-06, 2.02981099e-07,\n",
       "        1.44880730e-07, 6.13093931e-08, 7.89266953e-04, 5.12522138e-06,\n",
       "        1.47211460e-06, 4.48961686e-08, 1.74829864e-07, 4.10486194e-07,\n",
       "        8.81808475e-08, 5.82494579e-07, 8.89636681e-07, 5.46077463e-05,\n",
       "        8.10976417e-05, 2.45488663e-05, 7.45359057e-06, 1.61044241e-07,\n",
       "        1.17427724e-07, 2.02919168e-07, 8.79188610e-06, 1.35531070e-06,\n",
       "        2.05048605e-06, 3.21015455e-06, 4.08299209e-04, 9.14832999e-05,\n",
       "        3.40420729e-06, 1.38620646e-06, 2.17819078e-07, 1.15683543e-08,\n",
       "        3.39506734e-08, 9.42274255e-06, 7.50295701e-04, 9.17121099e-08,\n",
       "        4.46346849e-06, 2.13547246e-05, 2.97323022e-05, 2.20324160e-04,\n",
       "        5.49156903e-06, 1.60870854e-06, 1.86291959e-06, 2.22007907e-06,\n",
       "        7.02110754e-07, 7.66332686e-09, 5.84731106e-06, 5.37753112e-06,\n",
       "        9.13539188e-05, 9.09179008e-08, 1.71774047e-07, 1.23168468e-06,\n",
       "        1.25451930e-04, 1.21497305e-05, 4.69215593e-06, 2.46823606e-06,\n",
       "        6.33598916e-08, 2.29007338e-08, 5.99164696e-06, 4.47380517e-05,\n",
       "        2.09346381e-05, 4.36576829e-06, 1.37169266e-07, 3.77752428e-07,\n",
       "        8.20254343e-07, 2.47887347e-05, 3.58239049e-05, 3.01799882e-05,\n",
       "        5.01718750e-06, 7.14045655e-06, 5.36868174e-06, 1.94612176e-06,\n",
       "        2.61441869e-06, 9.23284802e-07, 9.64372589e-07, 1.07930578e-06,\n",
       "        9.17577108e-06, 1.66346890e-05, 1.12789012e-05, 5.10491809e-08,\n",
       "        8.77262281e-08, 5.33655839e-06, 8.06972054e-08, 1.23779023e-06,\n",
       "        5.06411141e-07, 1.50717574e-06, 9.80480763e-05, 3.12761171e-04,\n",
       "        1.10138910e-06, 3.05952963e-05, 3.44740809e-04, 3.19906690e-06,\n",
       "        1.40123702e-05, 1.10821240e-03, 5.30829537e-04, 3.88592525e-06,\n",
       "        3.30080329e-05, 7.21643519e-05, 2.44342082e-05, 8.33385639e-06,\n",
       "        8.58274120e-07, 2.36955179e-06, 5.19170165e-08, 1.23079399e-05,\n",
       "        6.01757965e-05, 6.44847227e-04, 2.48975609e-03, 7.28344254e-04,\n",
       "        9.63529985e-08, 2.64291259e-07, 1.27396220e-07, 1.08696149e-07,\n",
       "        9.45277634e-08, 7.89089256e-08, 5.19596171e-08, 1.10632683e-07,\n",
       "        7.88434846e-08, 9.34418054e-08, 9.09730673e-08, 9.14382383e-08,\n",
       "        3.91116579e-08, 1.14158908e-07, 9.30727140e-08, 4.74875037e-08,\n",
       "        9.53926147e-08, 1.67140101e-07, 5.23653441e-08, 1.82983328e-07,\n",
       "        1.36997215e-07, 4.72740460e-08, 5.60509434e-08, 5.05692803e-08,\n",
       "        4.74072301e-08, 2.04352773e-07, 1.08732849e-07, 6.81234624e-08,\n",
       "        7.45915827e-08, 8.38113650e-08, 7.06631198e-08, 1.39866685e-07,\n",
       "        9.24250756e-08, 3.48252854e-07, 8.09900271e-08, 1.30673300e-07,\n",
       "        3.00568921e-08, 9.97723006e-08, 7.35025552e-08, 1.07588008e-07,\n",
       "        7.28585334e-08, 4.69100954e-08, 1.99566401e-07, 1.54540999e-07,\n",
       "        7.28653404e-08, 4.35083862e-08, 8.64180691e-08, 8.04637352e-08,\n",
       "        2.06534978e-07, 1.02505240e-07, 4.06206979e-08]], dtype=float32)"
      ]
     },
     "execution_count": 41,
     "metadata": {},
     "output_type": "execute_result"
    }
   ],
   "source": [
    "predict = model.predict(padded_token_text)\n",
    "predict"
   ]
  },
  {
   "cell_type": "code",
   "execution_count": 42,
   "id": "ae2b7cc9-ce5c-4171-a725-63183be2ed5c",
   "metadata": {},
   "outputs": [
    {
     "name": "stdout",
     "output_type": "stream",
     "text": [
      "20\n"
     ]
    }
   ],
   "source": [
    "pos = np.argmax(predict)\n",
    "print(pos)"
   ]
  },
  {
   "cell_type": "code",
   "execution_count": 43,
   "id": "4191c94b-2562-44cc-9436-d92a3358b22a",
   "metadata": {},
   "outputs": [
    {
     "name": "stdout",
     "output_type": "stream",
     "text": [
      "ocr\n"
     ]
    }
   ],
   "source": [
    "for word , index in tokenizer.word_index.items():\n",
    "    if(index==pos):\n",
    "        print(word)"
   ]
  },
  {
   "cell_type": "code",
   "execution_count": 44,
   "id": "35b2eb9c-ba85-49ea-80dd-6a50400a2c4d",
   "metadata": {},
   "outputs": [],
   "source": [
    "text = 'Thinkbiz'"
   ]
  },
  {
   "cell_type": "code",
   "execution_count": 45,
   "id": "ee7fac93-822c-4c4e-b343-8fb82640b6a0",
   "metadata": {},
   "outputs": [
    {
     "name": "stdout",
     "output_type": "stream",
     "text": [
      "Thinkbiz technology\n",
      "Thinkbiz technology pvt\n",
      "Thinkbiz technology pvt ltd\n",
      "Thinkbiz technology pvt ltd junior\n",
      "Thinkbiz technology pvt ltd junior python\n",
      "Thinkbiz technology pvt ltd junior python developer\n",
      "Thinkbiz technology pvt ltd junior python developer may\n",
      "Thinkbiz technology pvt ltd junior python developer may 2024\n",
      "Thinkbiz technology pvt ltd junior python developer may 2024 present\n"
     ]
    }
   ],
   "source": [
    "for i in range(9):\n",
    "    #tokenize\n",
    "    token_text = tokenizer.texts_to_sequences([text])[0]\n",
    "    #padding\n",
    "    padded_token_text = pad_sequences([token_text], maxlen=14, padding='pre')\n",
    "    #predict\n",
    "    predict = model.predict(padded_token_text, verbose=0)\n",
    "    pos = np.argmax(predict)\n",
    "\n",
    "    for word , index in tokenizer.word_index.items():\n",
    "        if(index==pos):\n",
    "            text = text + \" \"+ word\n",
    "            print(text)"
   ]
  },
  {
   "cell_type": "markdown",
   "id": "8d1251e3-8bd9-442b-81a6-f1bb1058e03c",
   "metadata": {
    "jp-MarkdownHeadingCollapsed": true
   },
   "source": [
    "# Encoder-Decoder Model in NLP"
   ]
  },
  {
   "cell_type": "code",
   "execution_count": 46,
   "id": "e2a8e31e-e91b-43cb-a8a7-0f70be10e672",
   "metadata": {},
   "outputs": [],
   "source": [
    "from keras.models import Sequential, Model\n",
    "from keras.layers import Input, Embedding, LSTM, Dense, SimpleRNN"
   ]
  },
  {
   "cell_type": "code",
   "execution_count": 47,
   "id": "56cfc3e0-1a61-4e20-ad1a-d6574fed3d28",
   "metadata": {},
   "outputs": [],
   "source": [
    "max_length_input =10\n",
    "max_length_output =15\n",
    "input_vocab_size = 5\n",
    "output_vocab_size = 10"
   ]
  },
  {
   "cell_type": "code",
   "execution_count": 48,
   "id": "10713e8d-5a98-47fc-a116-f1eadd7f6394",
   "metadata": {},
   "outputs": [],
   "source": [
    "# Define Encoder model\n",
    "encoder_inputs = Input(shape=(max_length_input,))\n",
    "encoder_embedding = Embedding(input_dim=input_vocab_size, output_dim=260)(encoder_inputs)\n",
    "encoder_lstm = LSTM(156, return_state=True)\n",
    "encoder_outputs, state_h, state_c = encoder_lstm(encoder_embedding)\n",
    "encoder_states = [state_h, state_c]"
   ]
  },
  {
   "cell_type": "code",
   "execution_count": 49,
   "id": "1e795328-8b72-4698-9f9a-c4a634a8975c",
   "metadata": {},
   "outputs": [],
   "source": [
    "# Define Decoder model\n",
    "decoder_inputs = Input(shape=(max_length_output,))\n",
    "decoder_embedding = Embedding(input_dim=output_vocab_size, output_dim=260)(decoder_inputs)\n",
    "decoder_lstm = LSTM(156, return_sequences=True, return_state=True)\n",
    "decoder_outputs, _, _ = decoder_lstm(decoder_embedding, initial_state=encoder_states)\n",
    "decoder_dense = Dense(output_vocab_size, activation='softmax')\n",
    "decoder_outputs = decoder_dense(decoder_outputs)"
   ]
  },
  {
   "cell_type": "code",
   "execution_count": 50,
   "id": "74f3f3c2-090f-4366-ad2d-3fcdf006c7f9",
   "metadata": {},
   "outputs": [],
   "source": [
    "# Define the full Encoder-Decoder model\n",
    "model = Model([encoder_inputs, decoder_inputs], decoder_outputs)"
   ]
  },
  {
   "cell_type": "code",
   "execution_count": 51,
   "id": "d62c48b3-060f-4f7e-8b50-82b7daa82835",
   "metadata": {},
   "outputs": [],
   "source": [
    "# Compile the model\n",
    "model.compile(optimizer='adam', loss='categorical_crossentropy', metrics=['accuracy'])"
   ]
  },
  {
   "cell_type": "code",
   "execution_count": 52,
   "id": "a6997f2c-f556-4216-9390-96c722663e01",
   "metadata": {},
   "outputs": [
    {
     "data": {
      "text/html": [
       "<pre style=\"white-space:pre;overflow-x:auto;line-height:normal;font-family:Menlo,'DejaVu Sans Mono',consolas,'Courier New',monospace\"><span style=\"font-weight: bold\">Model: \"functional_8\"</span>\n",
       "</pre>\n"
      ],
      "text/plain": [
       "\u001b[1mModel: \"functional_8\"\u001b[0m\n"
      ]
     },
     "metadata": {},
     "output_type": "display_data"
    },
    {
     "data": {
      "text/html": [
       "<pre style=\"white-space:pre;overflow-x:auto;line-height:normal;font-family:Menlo,'DejaVu Sans Mono',consolas,'Courier New',monospace\">┏━━━━━━━━━━━━━━━━━━━━━━━━━━━━━━━┳━━━━━━━━━━━━━━━━━━━━━━━━━━━┳━━━━━━━━━━━━━━━━━┳━━━━━━━━━━━━━━━━━━━━━━━━━━━━┓\n",
       "┃<span style=\"font-weight: bold\"> Layer (type)                  </span>┃<span style=\"font-weight: bold\"> Output Shape              </span>┃<span style=\"font-weight: bold\">         Param # </span>┃<span style=\"font-weight: bold\"> Connected to               </span>┃\n",
       "┡━━━━━━━━━━━━━━━━━━━━━━━━━━━━━━━╇━━━━━━━━━━━━━━━━━━━━━━━━━━━╇━━━━━━━━━━━━━━━━━╇━━━━━━━━━━━━━━━━━━━━━━━━━━━━┩\n",
       "│ input_layer_3 (<span style=\"color: #0087ff; text-decoration-color: #0087ff\">InputLayer</span>)    │ (<span style=\"color: #00d7ff; text-decoration-color: #00d7ff\">None</span>, <span style=\"color: #00af00; text-decoration-color: #00af00\">10</span>)                │               <span style=\"color: #00af00; text-decoration-color: #00af00\">0</span> │ -                          │\n",
       "├───────────────────────────────┼───────────────────────────┼─────────────────┼────────────────────────────┤\n",
       "│ input_layer_4 (<span style=\"color: #0087ff; text-decoration-color: #0087ff\">InputLayer</span>)    │ (<span style=\"color: #00d7ff; text-decoration-color: #00d7ff\">None</span>, <span style=\"color: #00af00; text-decoration-color: #00af00\">15</span>)                │               <span style=\"color: #00af00; text-decoration-color: #00af00\">0</span> │ -                          │\n",
       "├───────────────────────────────┼───────────────────────────┼─────────────────┼────────────────────────────┤\n",
       "│ embedding_1 (<span style=\"color: #0087ff; text-decoration-color: #0087ff\">Embedding</span>)       │ (<span style=\"color: #00d7ff; text-decoration-color: #00d7ff\">None</span>, <span style=\"color: #00af00; text-decoration-color: #00af00\">10</span>, <span style=\"color: #00af00; text-decoration-color: #00af00\">260</span>)           │           <span style=\"color: #00af00; text-decoration-color: #00af00\">1,300</span> │ input_layer_3[<span style=\"color: #00af00; text-decoration-color: #00af00\">0</span>][<span style=\"color: #00af00; text-decoration-color: #00af00\">0</span>]        │\n",
       "├───────────────────────────────┼───────────────────────────┼─────────────────┼────────────────────────────┤\n",
       "│ embedding_2 (<span style=\"color: #0087ff; text-decoration-color: #0087ff\">Embedding</span>)       │ (<span style=\"color: #00d7ff; text-decoration-color: #00d7ff\">None</span>, <span style=\"color: #00af00; text-decoration-color: #00af00\">15</span>, <span style=\"color: #00af00; text-decoration-color: #00af00\">260</span>)           │           <span style=\"color: #00af00; text-decoration-color: #00af00\">2,600</span> │ input_layer_4[<span style=\"color: #00af00; text-decoration-color: #00af00\">0</span>][<span style=\"color: #00af00; text-decoration-color: #00af00\">0</span>]        │\n",
       "├───────────────────────────────┼───────────────────────────┼─────────────────┼────────────────────────────┤\n",
       "│ lstm_1 (<span style=\"color: #0087ff; text-decoration-color: #0087ff\">LSTM</span>)                 │ [(<span style=\"color: #00d7ff; text-decoration-color: #00d7ff\">None</span>, <span style=\"color: #00af00; text-decoration-color: #00af00\">156</span>), (<span style=\"color: #00d7ff; text-decoration-color: #00d7ff\">None</span>,      │         <span style=\"color: #00af00; text-decoration-color: #00af00\">260,208</span> │ embedding_1[<span style=\"color: #00af00; text-decoration-color: #00af00\">0</span>][<span style=\"color: #00af00; text-decoration-color: #00af00\">0</span>]          │\n",
       "│                               │ <span style=\"color: #00af00; text-decoration-color: #00af00\">156</span>), (<span style=\"color: #00d7ff; text-decoration-color: #00d7ff\">None</span>, <span style=\"color: #00af00; text-decoration-color: #00af00\">156</span>)]        │                 │                            │\n",
       "├───────────────────────────────┼───────────────────────────┼─────────────────┼────────────────────────────┤\n",
       "│ lstm_2 (<span style=\"color: #0087ff; text-decoration-color: #0087ff\">LSTM</span>)                 │ [(<span style=\"color: #00d7ff; text-decoration-color: #00d7ff\">None</span>, <span style=\"color: #00af00; text-decoration-color: #00af00\">15</span>, <span style=\"color: #00af00; text-decoration-color: #00af00\">156</span>), (<span style=\"color: #00d7ff; text-decoration-color: #00d7ff\">None</span>,  │         <span style=\"color: #00af00; text-decoration-color: #00af00\">260,208</span> │ embedding_2[<span style=\"color: #00af00; text-decoration-color: #00af00\">0</span>][<span style=\"color: #00af00; text-decoration-color: #00af00\">0</span>],         │\n",
       "│                               │ <span style=\"color: #00af00; text-decoration-color: #00af00\">156</span>), (<span style=\"color: #00d7ff; text-decoration-color: #00d7ff\">None</span>, <span style=\"color: #00af00; text-decoration-color: #00af00\">156</span>)]        │                 │ lstm_1[<span style=\"color: #00af00; text-decoration-color: #00af00\">0</span>][<span style=\"color: #00af00; text-decoration-color: #00af00\">1</span>], lstm_1[<span style=\"color: #00af00; text-decoration-color: #00af00\">0</span>][<span style=\"color: #00af00; text-decoration-color: #00af00\">2</span>] │\n",
       "├───────────────────────────────┼───────────────────────────┼─────────────────┼────────────────────────────┤\n",
       "│ dense_4 (<span style=\"color: #0087ff; text-decoration-color: #0087ff\">Dense</span>)               │ (<span style=\"color: #00d7ff; text-decoration-color: #00d7ff\">None</span>, <span style=\"color: #00af00; text-decoration-color: #00af00\">15</span>, <span style=\"color: #00af00; text-decoration-color: #00af00\">10</span>)            │           <span style=\"color: #00af00; text-decoration-color: #00af00\">1,570</span> │ lstm_2[<span style=\"color: #00af00; text-decoration-color: #00af00\">0</span>][<span style=\"color: #00af00; text-decoration-color: #00af00\">0</span>]               │\n",
       "└───────────────────────────────┴───────────────────────────┴─────────────────┴────────────────────────────┘\n",
       "</pre>\n"
      ],
      "text/plain": [
       "┏━━━━━━━━━━━━━━━━━━━━━━━━━━━━━━━┳━━━━━━━━━━━━━━━━━━━━━━━━━━━┳━━━━━━━━━━━━━━━━━┳━━━━━━━━━━━━━━━━━━━━━━━━━━━━┓\n",
       "┃\u001b[1m \u001b[0m\u001b[1mLayer (type)                 \u001b[0m\u001b[1m \u001b[0m┃\u001b[1m \u001b[0m\u001b[1mOutput Shape             \u001b[0m\u001b[1m \u001b[0m┃\u001b[1m \u001b[0m\u001b[1m        Param #\u001b[0m\u001b[1m \u001b[0m┃\u001b[1m \u001b[0m\u001b[1mConnected to              \u001b[0m\u001b[1m \u001b[0m┃\n",
       "┡━━━━━━━━━━━━━━━━━━━━━━━━━━━━━━━╇━━━━━━━━━━━━━━━━━━━━━━━━━━━╇━━━━━━━━━━━━━━━━━╇━━━━━━━━━━━━━━━━━━━━━━━━━━━━┩\n",
       "│ input_layer_3 (\u001b[38;5;33mInputLayer\u001b[0m)    │ (\u001b[38;5;45mNone\u001b[0m, \u001b[38;5;34m10\u001b[0m)                │               \u001b[38;5;34m0\u001b[0m │ -                          │\n",
       "├───────────────────────────────┼───────────────────────────┼─────────────────┼────────────────────────────┤\n",
       "│ input_layer_4 (\u001b[38;5;33mInputLayer\u001b[0m)    │ (\u001b[38;5;45mNone\u001b[0m, \u001b[38;5;34m15\u001b[0m)                │               \u001b[38;5;34m0\u001b[0m │ -                          │\n",
       "├───────────────────────────────┼───────────────────────────┼─────────────────┼────────────────────────────┤\n",
       "│ embedding_1 (\u001b[38;5;33mEmbedding\u001b[0m)       │ (\u001b[38;5;45mNone\u001b[0m, \u001b[38;5;34m10\u001b[0m, \u001b[38;5;34m260\u001b[0m)           │           \u001b[38;5;34m1,300\u001b[0m │ input_layer_3[\u001b[38;5;34m0\u001b[0m][\u001b[38;5;34m0\u001b[0m]        │\n",
       "├───────────────────────────────┼───────────────────────────┼─────────────────┼────────────────────────────┤\n",
       "│ embedding_2 (\u001b[38;5;33mEmbedding\u001b[0m)       │ (\u001b[38;5;45mNone\u001b[0m, \u001b[38;5;34m15\u001b[0m, \u001b[38;5;34m260\u001b[0m)           │           \u001b[38;5;34m2,600\u001b[0m │ input_layer_4[\u001b[38;5;34m0\u001b[0m][\u001b[38;5;34m0\u001b[0m]        │\n",
       "├───────────────────────────────┼───────────────────────────┼─────────────────┼────────────────────────────┤\n",
       "│ lstm_1 (\u001b[38;5;33mLSTM\u001b[0m)                 │ [(\u001b[38;5;45mNone\u001b[0m, \u001b[38;5;34m156\u001b[0m), (\u001b[38;5;45mNone\u001b[0m,      │         \u001b[38;5;34m260,208\u001b[0m │ embedding_1[\u001b[38;5;34m0\u001b[0m][\u001b[38;5;34m0\u001b[0m]          │\n",
       "│                               │ \u001b[38;5;34m156\u001b[0m), (\u001b[38;5;45mNone\u001b[0m, \u001b[38;5;34m156\u001b[0m)]        │                 │                            │\n",
       "├───────────────────────────────┼───────────────────────────┼─────────────────┼────────────────────────────┤\n",
       "│ lstm_2 (\u001b[38;5;33mLSTM\u001b[0m)                 │ [(\u001b[38;5;45mNone\u001b[0m, \u001b[38;5;34m15\u001b[0m, \u001b[38;5;34m156\u001b[0m), (\u001b[38;5;45mNone\u001b[0m,  │         \u001b[38;5;34m260,208\u001b[0m │ embedding_2[\u001b[38;5;34m0\u001b[0m][\u001b[38;5;34m0\u001b[0m],         │\n",
       "│                               │ \u001b[38;5;34m156\u001b[0m), (\u001b[38;5;45mNone\u001b[0m, \u001b[38;5;34m156\u001b[0m)]        │                 │ lstm_1[\u001b[38;5;34m0\u001b[0m][\u001b[38;5;34m1\u001b[0m], lstm_1[\u001b[38;5;34m0\u001b[0m][\u001b[38;5;34m2\u001b[0m] │\n",
       "├───────────────────────────────┼───────────────────────────┼─────────────────┼────────────────────────────┤\n",
       "│ dense_4 (\u001b[38;5;33mDense\u001b[0m)               │ (\u001b[38;5;45mNone\u001b[0m, \u001b[38;5;34m15\u001b[0m, \u001b[38;5;34m10\u001b[0m)            │           \u001b[38;5;34m1,570\u001b[0m │ lstm_2[\u001b[38;5;34m0\u001b[0m][\u001b[38;5;34m0\u001b[0m]               │\n",
       "└───────────────────────────────┴───────────────────────────┴─────────────────┴────────────────────────────┘\n"
      ]
     },
     "metadata": {},
     "output_type": "display_data"
    },
    {
     "data": {
      "text/html": [
       "<pre style=\"white-space:pre;overflow-x:auto;line-height:normal;font-family:Menlo,'DejaVu Sans Mono',consolas,'Courier New',monospace\"><span style=\"font-weight: bold\"> Total params: </span><span style=\"color: #00af00; text-decoration-color: #00af00\">525,886</span> (2.01 MB)\n",
       "</pre>\n"
      ],
      "text/plain": [
       "\u001b[1m Total params: \u001b[0m\u001b[38;5;34m525,886\u001b[0m (2.01 MB)\n"
      ]
     },
     "metadata": {},
     "output_type": "display_data"
    },
    {
     "data": {
      "text/html": [
       "<pre style=\"white-space:pre;overflow-x:auto;line-height:normal;font-family:Menlo,'DejaVu Sans Mono',consolas,'Courier New',monospace\"><span style=\"font-weight: bold\"> Trainable params: </span><span style=\"color: #00af00; text-decoration-color: #00af00\">525,886</span> (2.01 MB)\n",
       "</pre>\n"
      ],
      "text/plain": [
       "\u001b[1m Trainable params: \u001b[0m\u001b[38;5;34m525,886\u001b[0m (2.01 MB)\n"
      ]
     },
     "metadata": {},
     "output_type": "display_data"
    },
    {
     "data": {
      "text/html": [
       "<pre style=\"white-space:pre;overflow-x:auto;line-height:normal;font-family:Menlo,'DejaVu Sans Mono',consolas,'Courier New',monospace\"><span style=\"font-weight: bold\"> Non-trainable params: </span><span style=\"color: #00af00; text-decoration-color: #00af00\">0</span> (0.00 B)\n",
       "</pre>\n"
      ],
      "text/plain": [
       "\u001b[1m Non-trainable params: \u001b[0m\u001b[38;5;34m0\u001b[0m (0.00 B)\n"
      ]
     },
     "metadata": {},
     "output_type": "display_data"
    }
   ],
   "source": [
    "# Print model summary\n",
    "model.summary()"
   ]
  },
  {
   "cell_type": "markdown",
   "id": "4f4a5960-1d8a-4772-ae74-161de26c5623",
   "metadata": {},
   "source": [
    "# Encoder-Decoder Model in Time-series Forecasting"
   ]
  },
  {
   "cell_type": "code",
   "execution_count": 53,
   "id": "95d9719b-131e-425d-876c-ae7a16a7de9a",
   "metadata": {},
   "outputs": [],
   "source": [
    "from keras.layers import LSTM, Dense , Bidirectional, RepeatVector, TimeDistributed\n",
    "from keras.models import Sequential\n",
    "import keras\n",
    "import numpy"
   ]
  },
  {
   "cell_type": "code",
   "execution_count": 54,
   "id": "d798b94f-bc07-46de-8719-f89095a2d844",
   "metadata": {},
   "outputs": [],
   "source": [
    "time_window = 5\n",
    "output = 2"
   ]
  },
  {
   "cell_type": "code",
   "execution_count": 55,
   "id": "594cadcb-f2a0-4e70-807a-d3f7de252443",
   "metadata": {},
   "outputs": [
    {
     "name": "stderr",
     "output_type": "stream",
     "text": [
      "C:\\Users\\Thinkbiz\\AppData\\Local\\Programs\\Python\\Python312\\Lib\\site-packages\\keras\\src\\layers\\rnn\\rnn.py:204: UserWarning: Do not pass an `input_shape`/`input_dim` argument to a layer. When using Sequential models, prefer using an `Input(shape)` object as the first layer in the model instead.\n",
      "  super().__init__(**kwargs)\n"
     ]
    },
    {
     "data": {
      "text/html": [
       "<pre style=\"white-space:pre;overflow-x:auto;line-height:normal;font-family:Menlo,'DejaVu Sans Mono',consolas,'Courier New',monospace\"><span style=\"font-weight: bold\">Model: \"sequential_3\"</span>\n",
       "</pre>\n"
      ],
      "text/plain": [
       "\u001b[1mModel: \"sequential_3\"\u001b[0m\n"
      ]
     },
     "metadata": {},
     "output_type": "display_data"
    },
    {
     "data": {
      "text/html": [
       "<pre style=\"white-space:pre;overflow-x:auto;line-height:normal;font-family:Menlo,'DejaVu Sans Mono',consolas,'Courier New',monospace\">┏━━━━━━━━━━━━━━━━━━━━━━━━━━━━━━━━━━━━━━┳━━━━━━━━━━━━━━━━━━━━━━━━━━━━━┳━━━━━━━━━━━━━━━━━┓\n",
       "┃<span style=\"font-weight: bold\"> Layer (type)                         </span>┃<span style=\"font-weight: bold\"> Output Shape                </span>┃<span style=\"font-weight: bold\">         Param # </span>┃\n",
       "┡━━━━━━━━━━━━━━━━━━━━━━━━━━━━━━━━━━━━━━╇━━━━━━━━━━━━━━━━━━━━━━━━━━━━━╇━━━━━━━━━━━━━━━━━┩\n",
       "│ lstm_3 (<span style=\"color: #0087ff; text-decoration-color: #0087ff\">LSTM</span>)                        │ (<span style=\"color: #00d7ff; text-decoration-color: #00d7ff\">None</span>, <span style=\"color: #00af00; text-decoration-color: #00af00\">100</span>)                 │          <span style=\"color: #00af00; text-decoration-color: #00af00\">40,800</span> │\n",
       "├──────────────────────────────────────┼─────────────────────────────┼─────────────────┤\n",
       "│ repeat_vector (<span style=\"color: #0087ff; text-decoration-color: #0087ff\">RepeatVector</span>)         │ (<span style=\"color: #00d7ff; text-decoration-color: #00d7ff\">None</span>, <span style=\"color: #00af00; text-decoration-color: #00af00\">2</span>, <span style=\"color: #00af00; text-decoration-color: #00af00\">100</span>)              │               <span style=\"color: #00af00; text-decoration-color: #00af00\">0</span> │\n",
       "├──────────────────────────────────────┼─────────────────────────────┼─────────────────┤\n",
       "│ lstm_4 (<span style=\"color: #0087ff; text-decoration-color: #0087ff\">LSTM</span>)                        │ (<span style=\"color: #00d7ff; text-decoration-color: #00d7ff\">None</span>, <span style=\"color: #00af00; text-decoration-color: #00af00\">2</span>, <span style=\"color: #00af00; text-decoration-color: #00af00\">100</span>)              │          <span style=\"color: #00af00; text-decoration-color: #00af00\">80,400</span> │\n",
       "├──────────────────────────────────────┼─────────────────────────────┼─────────────────┤\n",
       "│ time_distributed (<span style=\"color: #0087ff; text-decoration-color: #0087ff\">TimeDistributed</span>)   │ (<span style=\"color: #00d7ff; text-decoration-color: #00d7ff\">None</span>, <span style=\"color: #00af00; text-decoration-color: #00af00\">2</span>, <span style=\"color: #00af00; text-decoration-color: #00af00\">1</span>)                │             <span style=\"color: #00af00; text-decoration-color: #00af00\">101</span> │\n",
       "└──────────────────────────────────────┴─────────────────────────────┴─────────────────┘\n",
       "</pre>\n"
      ],
      "text/plain": [
       "┏━━━━━━━━━━━━━━━━━━━━━━━━━━━━━━━━━━━━━━┳━━━━━━━━━━━━━━━━━━━━━━━━━━━━━┳━━━━━━━━━━━━━━━━━┓\n",
       "┃\u001b[1m \u001b[0m\u001b[1mLayer (type)                        \u001b[0m\u001b[1m \u001b[0m┃\u001b[1m \u001b[0m\u001b[1mOutput Shape               \u001b[0m\u001b[1m \u001b[0m┃\u001b[1m \u001b[0m\u001b[1m        Param #\u001b[0m\u001b[1m \u001b[0m┃\n",
       "┡━━━━━━━━━━━━━━━━━━━━━━━━━━━━━━━━━━━━━━╇━━━━━━━━━━━━━━━━━━━━━━━━━━━━━╇━━━━━━━━━━━━━━━━━┩\n",
       "│ lstm_3 (\u001b[38;5;33mLSTM\u001b[0m)                        │ (\u001b[38;5;45mNone\u001b[0m, \u001b[38;5;34m100\u001b[0m)                 │          \u001b[38;5;34m40,800\u001b[0m │\n",
       "├──────────────────────────────────────┼─────────────────────────────┼─────────────────┤\n",
       "│ repeat_vector (\u001b[38;5;33mRepeatVector\u001b[0m)         │ (\u001b[38;5;45mNone\u001b[0m, \u001b[38;5;34m2\u001b[0m, \u001b[38;5;34m100\u001b[0m)              │               \u001b[38;5;34m0\u001b[0m │\n",
       "├──────────────────────────────────────┼─────────────────────────────┼─────────────────┤\n",
       "│ lstm_4 (\u001b[38;5;33mLSTM\u001b[0m)                        │ (\u001b[38;5;45mNone\u001b[0m, \u001b[38;5;34m2\u001b[0m, \u001b[38;5;34m100\u001b[0m)              │          \u001b[38;5;34m80,400\u001b[0m │\n",
       "├──────────────────────────────────────┼─────────────────────────────┼─────────────────┤\n",
       "│ time_distributed (\u001b[38;5;33mTimeDistributed\u001b[0m)   │ (\u001b[38;5;45mNone\u001b[0m, \u001b[38;5;34m2\u001b[0m, \u001b[38;5;34m1\u001b[0m)                │             \u001b[38;5;34m101\u001b[0m │\n",
       "└──────────────────────────────────────┴─────────────────────────────┴─────────────────┘\n"
      ]
     },
     "metadata": {},
     "output_type": "display_data"
    },
    {
     "data": {
      "text/html": [
       "<pre style=\"white-space:pre;overflow-x:auto;line-height:normal;font-family:Menlo,'DejaVu Sans Mono',consolas,'Courier New',monospace\"><span style=\"font-weight: bold\"> Total params: </span><span style=\"color: #00af00; text-decoration-color: #00af00\">121,301</span> (473.83 KB)\n",
       "</pre>\n"
      ],
      "text/plain": [
       "\u001b[1m Total params: \u001b[0m\u001b[38;5;34m121,301\u001b[0m (473.83 KB)\n"
      ]
     },
     "metadata": {},
     "output_type": "display_data"
    },
    {
     "data": {
      "text/html": [
       "<pre style=\"white-space:pre;overflow-x:auto;line-height:normal;font-family:Menlo,'DejaVu Sans Mono',consolas,'Courier New',monospace\"><span style=\"font-weight: bold\"> Trainable params: </span><span style=\"color: #00af00; text-decoration-color: #00af00\">121,301</span> (473.83 KB)\n",
       "</pre>\n"
      ],
      "text/plain": [
       "\u001b[1m Trainable params: \u001b[0m\u001b[38;5;34m121,301\u001b[0m (473.83 KB)\n"
      ]
     },
     "metadata": {},
     "output_type": "display_data"
    },
    {
     "data": {
      "text/html": [
       "<pre style=\"white-space:pre;overflow-x:auto;line-height:normal;font-family:Menlo,'DejaVu Sans Mono',consolas,'Courier New',monospace\"><span style=\"font-weight: bold\"> Non-trainable params: </span><span style=\"color: #00af00; text-decoration-color: #00af00\">0</span> (0.00 B)\n",
       "</pre>\n"
      ],
      "text/plain": [
       "\u001b[1m Non-trainable params: \u001b[0m\u001b[38;5;34m0\u001b[0m (0.00 B)\n"
      ]
     },
     "metadata": {},
     "output_type": "display_data"
    }
   ],
   "source": [
    "model = Sequential()\n",
    "\n",
    "# encoder\n",
    "model.add(LSTM(100, activation='relu',input_shape=(time_window,1)))\n",
    "\n",
    "# context vector\n",
    "model.add(RepeatVector(output))\n",
    "\n",
    "#decoder\n",
    "model.add(LSTM(100, activation='relu', return_sequences=True))\n",
    "model.add(TimeDistributed(Dense(1,activation='relu')))\n",
    "\n",
    "model.compile(optimizer='adam', loss='mse')\n",
    "model.summary()"
   ]
  },
  {
   "cell_type": "code",
   "execution_count": 56,
   "id": "9a091b99-293f-4531-998e-f52248c8c199",
   "metadata": {},
   "outputs": [],
   "source": [
    "test_model = keras.models.load_model('my_test_model.keras')"
   ]
  },
  {
   "cell_type": "code",
   "execution_count": 57,
   "id": "0dc7c319-2ee9-4b63-a776-fc408ca785c3",
   "metadata": {},
   "outputs": [
    {
     "name": "stdout",
     "output_type": "stream",
     "text": [
      "(4, 5, 1)\n"
     ]
    }
   ],
   "source": [
    "x_test = np.array([1,2,3,4,5,6,7,8,9,10,11,12,13,14,15,16,17,18,19,20])\n",
    "x_test = x_test.reshape((-1,5,1))\n",
    "print(x_test.shape)"
   ]
  },
  {
   "cell_type": "code",
   "execution_count": 58,
   "id": "390c6586-94f7-4384-a22e-172701511ce3",
   "metadata": {},
   "outputs": [
    {
     "data": {
      "text/plain": [
       "array([[[ 1],\n",
       "        [ 2],\n",
       "        [ 3],\n",
       "        [ 4],\n",
       "        [ 5]],\n",
       "\n",
       "       [[ 6],\n",
       "        [ 7],\n",
       "        [ 8],\n",
       "        [ 9],\n",
       "        [10]],\n",
       "\n",
       "       [[11],\n",
       "        [12],\n",
       "        [13],\n",
       "        [14],\n",
       "        [15]],\n",
       "\n",
       "       [[16],\n",
       "        [17],\n",
       "        [18],\n",
       "        [19],\n",
       "        [20]]])"
      ]
     },
     "execution_count": 58,
     "metadata": {},
     "output_type": "execute_result"
    }
   ],
   "source": [
    "x_test"
   ]
  },
  {
   "cell_type": "code",
   "execution_count": 59,
   "id": "bfc34123-b5c7-48a3-b3ee-306a1f95e8cb",
   "metadata": {},
   "outputs": [
    {
     "name": "stdout",
     "output_type": "stream",
     "text": [
      "\u001b[1m1/1\u001b[0m \u001b[32m━━━━━━━━━━━━━━━━━━━━\u001b[0m\u001b[37m\u001b[0m \u001b[1m0s\u001b[0m 495ms/step\n"
     ]
    }
   ],
   "source": [
    "yhat = test_model.predict(x_test)"
   ]
  },
  {
   "cell_type": "code",
   "execution_count": 60,
   "id": "dcf01d07-fb7a-4ac7-8ea1-b384a3c07057",
   "metadata": {},
   "outputs": [
    {
     "data": {
      "text/plain": [
       "array([[[ 5.7876782],\n",
       "        [ 6.9925895]],\n",
       "\n",
       "       [[11.046225 ],\n",
       "        [12.039444 ]],\n",
       "\n",
       "       [[15.970491 ],\n",
       "        [17.075956 ]],\n",
       "\n",
       "       [[21.03507  ],\n",
       "        [22.078547 ]]], dtype=float32)"
      ]
     },
     "execution_count": 60,
     "metadata": {},
     "output_type": "execute_result"
    }
   ],
   "source": [
    "yhat"
   ]
  },
  {
   "cell_type": "code",
   "execution_count": 69,
   "id": "722c59f0-7c08-46eb-8ae7-453cfb93d18b",
   "metadata": {},
   "outputs": [
    {
     "ename": "AttributeError",
     "evalue": "'numpy.ndarray' object has no attribute 'reverse'",
     "output_type": "error",
     "traceback": [
      "\u001b[1;31m---------------------------------------------------------------------------\u001b[0m",
      "\u001b[1;31mAttributeError\u001b[0m                            Traceback (most recent call last)",
      "Cell \u001b[1;32mIn[69], line 2\u001b[0m\n\u001b[0;32m      1\u001b[0m x_test \u001b[38;5;241m=\u001b[39m np\u001b[38;5;241m.\u001b[39marray([\u001b[38;5;241m1\u001b[39m,\u001b[38;5;241m2\u001b[39m,\u001b[38;5;241m3\u001b[39m,\u001b[38;5;241m4\u001b[39m,\u001b[38;5;241m5\u001b[39m,\u001b[38;5;241m6\u001b[39m,\u001b[38;5;241m7\u001b[39m,\u001b[38;5;241m8\u001b[39m,\u001b[38;5;241m9\u001b[39m,\u001b[38;5;241m10\u001b[39m,\u001b[38;5;241m11\u001b[39m,\u001b[38;5;241m12\u001b[39m,\u001b[38;5;241m13\u001b[39m,\u001b[38;5;241m14\u001b[39m,\u001b[38;5;241m15\u001b[39m,\u001b[38;5;241m16\u001b[39m,\u001b[38;5;241m17\u001b[39m,\u001b[38;5;241m18\u001b[39m,\u001b[38;5;241m19\u001b[39m,\u001b[38;5;241m20\u001b[39m])\n\u001b[1;32m----> 2\u001b[0m \u001b[43mx_test\u001b[49m\u001b[38;5;241;43m.\u001b[39;49m\u001b[43mreverse\u001b[49m()\n\u001b[0;32m      3\u001b[0m \u001b[38;5;66;03m# x_test = x_test.reshape((-1,5,1))\u001b[39;00m\n\u001b[0;32m      4\u001b[0m \u001b[38;5;28mprint\u001b[39m(x_test\u001b[38;5;241m.\u001b[39mshape)\n",
      "\u001b[1;31mAttributeError\u001b[0m: 'numpy.ndarray' object has no attribute 'reverse'"
     ]
    }
   ],
   "source": [
    "x_test = np.array([1,2,3,4,5,6,7,8,9,10,11,12,13,14,15,16,17,18,19,20])\n",
    "res = np.flip(ini_array)\n",
    "# x_test = x_test.reshape((-1,5,1))\n",
    "print(x_test.shape)"
   ]
  },
  {
   "cell_type": "code",
   "execution_count": 61,
   "id": "6c45ca42-8777-41a9-b4c4-be01e9f9bfcf",
   "metadata": {
    "collapsed": true,
    "jupyter": {
     "outputs_hidden": true,
     "source_hidden": true
    }
   },
   "outputs": [
    {
     "name": "stdout",
     "output_type": "stream",
     "text": [
      "(4, 5, 1)\n"
     ]
    }
   ],
   "source": [
    "x_test = np.array([7203.5 , 7189.3 , 7152.55, 7105, 7048.35, 7020, 6995, 6947, 7063.55, 6900, 7063.55, 6900, 6863.6, 6778.35, 6735.85, 6710.55, 6600.1, 6585.75, 6600.8,6645.6])\n",
    "x_test = x_test.reshape((-1,5,1))\n",
    "print(x_test.shape)\n",
    "\n",
    "# 7203.5, 7189.3 , 7152.55, 7105, 7048.35, 7020, 6995, 6947, 7063.55, 6900, 7063.55, 6900, 6863.6, 6778.35, 6735.85, 6710.55, 6600.1, 6585.75, 6600.8,6645.6"
   ]
  },
  {
   "cell_type": "code",
   "execution_count": 62,
   "id": "4284ea17-d5e8-4a27-9dd2-1755f4fd18ec",
   "metadata": {},
   "outputs": [
    {
     "data": {
      "text/plain": [
       "array([[[7203.5 ],\n",
       "        [7189.3 ],\n",
       "        [7152.55],\n",
       "        [7105.  ],\n",
       "        [7048.35]],\n",
       "\n",
       "       [[7020.  ],\n",
       "        [6995.  ],\n",
       "        [6947.  ],\n",
       "        [7063.55],\n",
       "        [6900.  ]],\n",
       "\n",
       "       [[7063.55],\n",
       "        [6900.  ],\n",
       "        [6863.6 ],\n",
       "        [6778.35],\n",
       "        [6735.85]],\n",
       "\n",
       "       [[6710.55],\n",
       "        [6600.1 ],\n",
       "        [6585.75],\n",
       "        [6600.8 ],\n",
       "        [6645.6 ]]])"
      ]
     },
     "execution_count": 62,
     "metadata": {},
     "output_type": "execute_result"
    }
   ],
   "source": [
    "x_test"
   ]
  },
  {
   "cell_type": "code",
   "execution_count": 63,
   "id": "664afe51-357e-424f-bc50-d122ee9f1e2b",
   "metadata": {},
   "outputs": [
    {
     "name": "stdout",
     "output_type": "stream",
     "text": [
      "\u001b[1m1/1\u001b[0m \u001b[32m━━━━━━━━━━━━━━━━━━━━\u001b[0m\u001b[37m\u001b[0m \u001b[1m0s\u001b[0m 434ms/step\n"
     ]
    },
    {
     "data": {
      "text/plain": [
       "array([[[7132.5835],\n",
       "        [7149.355 ]],\n",
       "\n",
       "       [[6972.4077],\n",
       "        [6987.385 ]],\n",
       "\n",
       "       [[6866.002 ],\n",
       "        [6882.3315]],\n",
       "\n",
       "       [[6616.446 ],\n",
       "        [6633.0015]]], dtype=float32)"
      ]
     },
     "execution_count": 63,
     "metadata": {},
     "output_type": "execute_result"
    }
   ],
   "source": [
    "yhat = test_model.predict(x_test)\n",
    "yhat"
   ]
  }
 ],
 "metadata": {
  "kernelspec": {
   "display_name": "Python 3 (ipykernel)",
   "language": "python",
   "name": "python3"
  },
  "language_info": {
   "codemirror_mode": {
    "name": "ipython",
    "version": 3
   },
   "file_extension": ".py",
   "mimetype": "text/x-python",
   "name": "python",
   "nbconvert_exporter": "python",
   "pygments_lexer": "ipython3",
   "version": "3.12.4"
  }
 },
 "nbformat": 4,
 "nbformat_minor": 5
}
